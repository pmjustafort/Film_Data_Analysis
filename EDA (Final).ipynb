{
 "cells": [
  {
   "cell_type": "markdown",
   "metadata": {},
   "source": [
    "# Exploratory Data Analysis (Clean)\n",
    "\n",
    "Team Members:\n",
    "* [Paul Justafort](https://github.com/pmjustafort)\n",
    "* [Bobby Gerberick](https://github.com/BobbyGerberick)\n",
    "* [Aung Si](https://github.com/aungsias)"
   ]
  },
  {
   "cell_type": "markdown",
   "metadata": {},
   "source": [
    "---"
   ]
  },
  {
   "cell_type": "markdown",
   "metadata": {},
   "source": [
    "# Overview"
   ]
  },
  {
   "cell_type": "markdown",
   "metadata": {},
   "source": [
    "Our film analysis project is a data-driven project that aims to uncover the key factors contributing to the financial success and popularity of movies in the cinematography industry. This analysis project benefits from an extensive dataset comprising a staggering 146,000 films. This rich and diverse data was sourced meticulously from prominent film industry databases, including Box Office Mojo, Internet Movie Database (IMDB), Rotten Tomatoes, The Movie Database (TMDB), and The Numbers Movie Budget. By leveraging this comprehensive dataset, our project aims to gain valuable insights and provide data-driven recommendations to guide decision-making processes and optimize the success of movies in the ever-evolving and competitive film landscape."
   ]
  },
  {
   "cell_type": "markdown",
   "metadata": {},
   "source": [
    "# Business Problem\n",
    "\n",
    "In the history of the cinematography industry, remarkable movies such as 'Avatar' (2009), 'Avengers: Endgame' (2019), 'Titanic' (1997), among others, have achieved tremendous success, captivating global audiences and redefining filmmaking. However, in the last years and amplified by the impact of the COVID-19 pandemic, the industry has faced significant disruptions due to the surge in popular streaming services like Netflix, Amazon Prime Video, Disney+, Tubi (which is free), Hulu, and others. As a result, producing a movie that attracts audiences to cinemas has become more challenging than ever before. Creating a successful film today requires unprecedented rigor and adaptation to the changing landscape of movie consumption. Thus, wsing data from various sources, <b>we aim to give concrete recommendations as to which directors and which types of genres have historically shown the highest return on investment</b>."
   ]
  },
  {
   "cell_type": "markdown",
   "metadata": {},
   "source": [
    "# Data\n",
    "\n",
    "For this project, we meticulously collected and cleaned comprehensive data from five prominent databases within the film industry: Box Office Mojo, Internet Movie Database (IMDB), Rotten Tomatoes, The Movie Database (TMDB), and The Numbers Movie Budget. From Box Office Mojo, we extracted valuable information on 3,387 movies released between 2010 and 2018, encompassing details such as title, studio, domestic gross, foreign gross, and year of release. IMDB proved to be an invaluable resource, supplying an extensive dataset covering over 146,000 movies with attributes like title, duration, rating, actors, directors, and writers. The Movie Database (TMDB) enriched our analysis with additional movie-related metadata, including posters, release dates, plot summaries, and production details. The Numbers Movie Budget contributed essential financial insights, including production budgets, domestic box office earnings, and worldwide box office earnings. In order to ensure consistency and comparability, we carefully filtered and curated the data to create a sample of nearly 1500 films with the same set of variables we carefully filtered and curated the data to create a sample of nearly 1500 films with the same set of variables covering a window from 2010 to 2019. While we assessed data from all five sources, the primary data utilized in this project originated from Box Office Mojo, IMDB, and The Numbers Movie Budget. These datasets played a pivotal role in conducting a comprehensive analysis, encompassing both financial and qualitative aspects of the movies, resulting in meaningful conclusions and informed insights."
   ]
  },
  {
   "cell_type": "markdown",
   "metadata": {},
   "source": [
    "# Methods\n",
    "In this project, a robust data processing approach was employed, which included eliminating rows with missing values to ensure data integrity. Additionally, numerical variables were standardized to achieve uniform scaling for unbiased analysis. Exploratory Data Analysis (EDA) was performed using Seaborn and Matplotlib, providing valuable initial insights, exploring data distributions, and identifying patterns. Tableau Public was utilized for the final visualization, creating interactive and visually appealing representations of the results. Multiple ANOVA tests were conducted to assess the significance of differences between variables, enabling a comprehensive understanding of various factors' impacts. Moreover, linear regression was applied to explore relationships between variables and potential predictors. Through these multifaceted methodologies, a systematic and thorough analysis was conducted, leading to valuable insights and sound conclusions derived from the dataset."
   ]
  },
  {
   "cell_type": "markdown",
   "metadata": {},
   "source": [
    "## 1. Imports"
   ]
  },
  {
   "cell_type": "code",
   "execution_count": 128,
   "metadata": {},
   "outputs": [],
   "source": [
    "import sqlite3\n",
    "import pandas as pd\n",
    "import seaborn as sns\n",
    "import matplotlib.pyplot as plt\n",
    "import numpy as np\n",
    "import statsmodels.api as sm\n",
    "import matplotlib.ticker as mtick\n",
    "\n",
    "sns.set_style('whitegrid')\n",
    "plt.rcParams['font.size'] = 14\n",
    "sns.set_palette('Set1')"
   ]
  },
  {
   "cell_type": "code",
   "execution_count": 39,
   "metadata": {},
   "outputs": [],
   "source": [
    "# Defining helper functions to check dataframes.\n",
    "\n",
    "def check_nulls(df, df_name):\n",
    "    print(f\"Nulls in {df_name}:\\n\\n{df.isnull().sum()}\")\n",
    "\n",
    "def check_num_entries(df, df_name):\n",
    "    print(f\"Number of data entries in {df_name}: {len(df)}\\n\")"
   ]
  },
  {
   "cell_type": "markdown",
   "metadata": {},
   "source": [
    "---"
   ]
  },
  {
   "cell_type": "markdown",
   "metadata": {},
   "source": [
    "## 2. Loading Data"
   ]
  },
  {
   "cell_type": "markdown",
   "metadata": {},
   "source": [
    "### Loading IMDB Data"
   ]
  },
  {
   "cell_type": "code",
   "execution_count": 40,
   "metadata": {},
   "outputs": [],
   "source": [
    "conn = sqlite3.connect('raw_data/im.db')\n",
    "cur = conn.cursor()\n",
    "cur.execute(\"SELECT name FROM sqlite_master WHERE type='table';\")\n",
    "table_names = cur.fetchall()\n",
    "\n",
    "imdb = {}\n",
    "\n",
    "for table in table_names:\n",
    "    table_name = table[0]\n",
    "    imdb[table_name] = pd.read_sql_query(f\"SELECT * FROM {table_name}\", conn)"
   ]
  },
  {
   "cell_type": "markdown",
   "metadata": {},
   "source": [
    "### Loading The Numbers Data"
   ]
  },
  {
   "cell_type": "code",
   "execution_count": 42,
   "metadata": {},
   "outputs": [],
   "source": [
    "movie_budgets_df = pd.read_csv('raw_data/tn.movie_budgets.csv.gz')"
   ]
  },
  {
   "cell_type": "markdown",
   "metadata": {},
   "source": [
    "---"
   ]
  },
  {
   "cell_type": "markdown",
   "metadata": {},
   "source": [
    "## 3. Cleaning and Merging Data"
   ]
  },
  {
   "cell_type": "markdown",
   "metadata": {},
   "source": [
    "### IMDB"
   ]
  },
  {
   "cell_type": "code",
   "execution_count": 43,
   "metadata": {},
   "outputs": [
    {
     "data": {
      "text/plain": [
       "\"movie_basics: ['movie_id', 'primary_title', 'original_title', 'start_year', 'runtime_minutes', 'genres']\""
      ]
     },
     "metadata": {},
     "output_type": "display_data"
    },
    {
     "data": {
      "text/plain": [
       "\"directors: ['movie_id', 'person_id']\""
      ]
     },
     "metadata": {},
     "output_type": "display_data"
    },
    {
     "data": {
      "text/plain": [
       "\"known_for: ['person_id', 'movie_id']\""
      ]
     },
     "metadata": {},
     "output_type": "display_data"
    },
    {
     "data": {
      "text/plain": [
       "\"movie_akas: ['movie_id', 'ordering', 'title', 'region', 'language', 'types', 'attributes', 'is_original_title']\""
      ]
     },
     "metadata": {},
     "output_type": "display_data"
    },
    {
     "data": {
      "text/plain": [
       "\"movie_ratings: ['movie_id', 'averagerating', 'numvotes']\""
      ]
     },
     "metadata": {},
     "output_type": "display_data"
    },
    {
     "data": {
      "text/plain": [
       "\"persons: ['person_id', 'primary_name', 'birth_year', 'death_year', 'primary_profession']\""
      ]
     },
     "metadata": {},
     "output_type": "display_data"
    },
    {
     "data": {
      "text/plain": [
       "\"principals: ['movie_id', 'ordering', 'person_id', 'category', 'job', 'characters']\""
      ]
     },
     "metadata": {},
     "output_type": "display_data"
    },
    {
     "data": {
      "text/plain": [
       "\"writers: ['movie_id', 'person_id']\""
      ]
     },
     "metadata": {},
     "output_type": "display_data"
    }
   ],
   "source": [
    "# Checking IMDB table names and corresponding column labels.\n",
    "\n",
    "for name, df in imdb.items():\n",
    "    display(f'{name}: {df.columns.to_list()}')"
   ]
  },
  {
   "cell_type": "code",
   "execution_count": 44,
   "metadata": {},
   "outputs": [
    {
     "data": {
      "text/html": [
       "<div>\n",
       "<style scoped>\n",
       "    .dataframe tbody tr th:only-of-type {\n",
       "        vertical-align: middle;\n",
       "    }\n",
       "\n",
       "    .dataframe tbody tr th {\n",
       "        vertical-align: top;\n",
       "    }\n",
       "\n",
       "    .dataframe thead th {\n",
       "        text-align: right;\n",
       "    }\n",
       "</style>\n",
       "<table border=\"1\" class=\"dataframe\">\n",
       "  <thead>\n",
       "    <tr style=\"text-align: right;\">\n",
       "      <th></th>\n",
       "      <th>movie_id</th>\n",
       "      <th>directors</th>\n",
       "    </tr>\n",
       "  </thead>\n",
       "  <tbody>\n",
       "    <tr>\n",
       "      <th>0</th>\n",
       "      <td>tt0285252</td>\n",
       "      <td>Tony Vitale</td>\n",
       "    </tr>\n",
       "    <tr>\n",
       "      <th>1</th>\n",
       "      <td>tt0462036</td>\n",
       "      <td>Bill Haley</td>\n",
       "    </tr>\n",
       "    <tr>\n",
       "      <th>2</th>\n",
       "      <td>tt0835418</td>\n",
       "      <td>Jay Chandrasekhar</td>\n",
       "    </tr>\n",
       "  </tbody>\n",
       "</table>\n",
       "</div>"
      ],
      "text/plain": [
       "    movie_id          directors\n",
       "0  tt0285252        Tony Vitale\n",
       "1  tt0462036         Bill Haley\n",
       "2  tt0835418  Jay Chandrasekhar"
      ]
     },
     "execution_count": 44,
     "metadata": {},
     "output_type": "execute_result"
    }
   ],
   "source": [
    "# Inner merging IMDB's directors and persons tables.\n",
    "\n",
    "directors_with_names = pd.merge(imdb['directors'], imdb['persons'], on='person_id', how='inner').rename(columns={'primary_name': 'directors'})\n",
    "directors_with_names = directors_with_names[['movie_id', 'directors']]\n",
    "directors_with_names.head(3)"
   ]
  },
  {
   "cell_type": "code",
   "execution_count": 45,
   "metadata": {},
   "outputs": [
    {
     "data": {
      "text/html": [
       "<div>\n",
       "<style scoped>\n",
       "    .dataframe tbody tr th:only-of-type {\n",
       "        vertical-align: middle;\n",
       "    }\n",
       "\n",
       "    .dataframe tbody tr th {\n",
       "        vertical-align: top;\n",
       "    }\n",
       "\n",
       "    .dataframe thead th {\n",
       "        text-align: right;\n",
       "    }\n",
       "</style>\n",
       "<table border=\"1\" class=\"dataframe\">\n",
       "  <thead>\n",
       "    <tr style=\"text-align: right;\">\n",
       "      <th></th>\n",
       "      <th>movie_id</th>\n",
       "      <th>ordering</th>\n",
       "      <th>title</th>\n",
       "      <th>region</th>\n",
       "      <th>language</th>\n",
       "      <th>types</th>\n",
       "      <th>attributes</th>\n",
       "      <th>start_year</th>\n",
       "      <th>runtime_minutes</th>\n",
       "      <th>genres</th>\n",
       "    </tr>\n",
       "  </thead>\n",
       "  <tbody>\n",
       "    <tr>\n",
       "      <th>0</th>\n",
       "      <td>tt0369610</td>\n",
       "      <td>10</td>\n",
       "      <td>Jurassic World</td>\n",
       "      <td>BG</td>\n",
       "      <td>bg</td>\n",
       "      <td>None</td>\n",
       "      <td>None</td>\n",
       "      <td>2015</td>\n",
       "      <td>124.0</td>\n",
       "      <td>Action,Adventure,Sci-Fi</td>\n",
       "    </tr>\n",
       "    <tr>\n",
       "      <th>1</th>\n",
       "      <td>tt0369610</td>\n",
       "      <td>11</td>\n",
       "      <td>Jurassic World</td>\n",
       "      <td>JP</td>\n",
       "      <td>None</td>\n",
       "      <td>imdbDisplay</td>\n",
       "      <td>None</td>\n",
       "      <td>2015</td>\n",
       "      <td>124.0</td>\n",
       "      <td>Action,Adventure,Sci-Fi</td>\n",
       "    </tr>\n",
       "    <tr>\n",
       "      <th>2</th>\n",
       "      <td>tt0369610</td>\n",
       "      <td>12</td>\n",
       "      <td>Jurassic World</td>\n",
       "      <td>BR</td>\n",
       "      <td>None</td>\n",
       "      <td>imdbDisplay</td>\n",
       "      <td>None</td>\n",
       "      <td>2015</td>\n",
       "      <td>124.0</td>\n",
       "      <td>Action,Adventure,Sci-Fi</td>\n",
       "    </tr>\n",
       "  </tbody>\n",
       "</table>\n",
       "</div>"
      ],
      "text/plain": [
       "    movie_id  ordering           title region language        types  \\\n",
       "0  tt0369610        10  Jurassic World     BG       bg         None   \n",
       "1  tt0369610        11  Jurassic World     JP     None  imdbDisplay   \n",
       "2  tt0369610        12  Jurassic World     BR     None  imdbDisplay   \n",
       "\n",
       "  attributes  start_year  runtime_minutes                   genres  \n",
       "0       None        2015            124.0  Action,Adventure,Sci-Fi  \n",
       "1       None        2015            124.0  Action,Adventure,Sci-Fi  \n",
       "2       None        2015            124.0  Action,Adventure,Sci-Fi  "
      ]
     },
     "execution_count": 45,
     "metadata": {},
     "output_type": "execute_result"
    }
   ],
   "source": [
    "# Inner merging IMDB's movie_akas and movie_basics tables.\n",
    "\n",
    "def select_title(row):\n",
    "    if row['is_original_title'] == 1.0:\n",
    "        return row['original_title']\n",
    "    else:\n",
    "        return row['primary_title']\n",
    "\n",
    "movie_akas_and_basics = pd.merge(imdb['movie_akas'], imdb['movie_basics'], on='movie_id', how='inner')\n",
    "movie_akas_and_basics['title'] = movie_akas_and_basics.apply(select_title, axis=1)\n",
    "movie_akas_and_basics = movie_akas_and_basics.drop(columns=['primary_title', 'original_title', 'is_original_title'])\n",
    "movie_akas_and_basics.head(3)"
   ]
  },
  {
   "cell_type": "code",
   "execution_count": 46,
   "metadata": {},
   "outputs": [
    {
     "data": {
      "text/html": [
       "<div>\n",
       "<style scoped>\n",
       "    .dataframe tbody tr th:only-of-type {\n",
       "        vertical-align: middle;\n",
       "    }\n",
       "\n",
       "    .dataframe tbody tr th {\n",
       "        vertical-align: top;\n",
       "    }\n",
       "\n",
       "    .dataframe thead th {\n",
       "        text-align: right;\n",
       "    }\n",
       "</style>\n",
       "<table border=\"1\" class=\"dataframe\">\n",
       "  <thead>\n",
       "    <tr style=\"text-align: right;\">\n",
       "      <th></th>\n",
       "      <th>movie_id</th>\n",
       "      <th>title</th>\n",
       "      <th>start_year</th>\n",
       "      <th>genres</th>\n",
       "    </tr>\n",
       "  </thead>\n",
       "  <tbody>\n",
       "    <tr>\n",
       "      <th>0</th>\n",
       "      <td>tt1042974</td>\n",
       "      <td>Just Inès</td>\n",
       "      <td>2010</td>\n",
       "      <td>Drama</td>\n",
       "    </tr>\n",
       "    <tr>\n",
       "      <th>3</th>\n",
       "      <td>tt1043726</td>\n",
       "      <td>The Legend of Hercules</td>\n",
       "      <td>2014</td>\n",
       "      <td>Action,Adventure,Fantasy</td>\n",
       "    </tr>\n",
       "    <tr>\n",
       "      <th>34</th>\n",
       "      <td>tt1060240</td>\n",
       "      <td>Até Onde?</td>\n",
       "      <td>2011</td>\n",
       "      <td>Mystery,Thriller</td>\n",
       "    </tr>\n",
       "  </tbody>\n",
       "</table>\n",
       "</div>"
      ],
      "text/plain": [
       "     movie_id                   title  start_year                    genres\n",
       "0   tt1042974               Just Inès        2010                     Drama\n",
       "3   tt1043726  The Legend of Hercules        2014  Action,Adventure,Fantasy\n",
       "34  tt1060240               Até Onde?        2011          Mystery,Thriller"
      ]
     },
     "metadata": {},
     "output_type": "display_data"
    },
    {
     "name": "stdout",
     "output_type": "stream",
     "text": [
      "Number of data entries in imdb_df: 68937\n",
      "\n",
      "Nulls in imdb_df:\n",
      "\n",
      "movie_id      0\n",
      "title         0\n",
      "start_year    0\n",
      "genres        0\n",
      "dtype: int64\n"
     ]
    }
   ],
   "source": [
    "# Inner merging previous merged table and IMDB's movie_ratings table.\n",
    "\n",
    "columns_to_drop_from_imdb = [\n",
    "    'language', \n",
    "    'types', \n",
    "    'attributes', \n",
    "    'ordering', \n",
    "    'region', \n",
    "    'numvotes', \n",
    "    'averagerating',\n",
    "    'runtime_minutes'\n",
    "]\n",
    "\n",
    "imdb_df = pd.merge(imdb['movie_ratings'], movie_akas_and_basics, on='movie_id', how='inner')\n",
    "imdb_df = imdb_df.drop(columns=columns_to_drop_from_imdb)\n",
    "imdb_df = imdb_df.dropna(subset=['movie_id', 'genres'])\n",
    "imdb_df = imdb_df.drop_duplicates(subset='movie_id')\n",
    "display(imdb_df.head(3))\n",
    "check_num_entries(imdb_df, 'imdb_df')\n",
    "check_nulls(imdb_df, 'imdb_df')"
   ]
  },
  {
   "cell_type": "code",
   "execution_count": 47,
   "metadata": {},
   "outputs": [
    {
     "data": {
      "text/html": [
       "<div>\n",
       "<style scoped>\n",
       "    .dataframe tbody tr th:only-of-type {\n",
       "        vertical-align: middle;\n",
       "    }\n",
       "\n",
       "    .dataframe tbody tr th {\n",
       "        vertical-align: top;\n",
       "    }\n",
       "\n",
       "    .dataframe thead th {\n",
       "        text-align: right;\n",
       "    }\n",
       "</style>\n",
       "<table border=\"1\" class=\"dataframe\">\n",
       "  <thead>\n",
       "    <tr style=\"text-align: right;\">\n",
       "      <th></th>\n",
       "      <th>movie_id</th>\n",
       "      <th>title</th>\n",
       "      <th>start_year</th>\n",
       "      <th>genres</th>\n",
       "      <th>directors</th>\n",
       "    </tr>\n",
       "  </thead>\n",
       "  <tbody>\n",
       "    <tr>\n",
       "      <th>0</th>\n",
       "      <td>tt0285252</td>\n",
       "      <td>Life's a Beach</td>\n",
       "      <td>2012.0</td>\n",
       "      <td>Comedy</td>\n",
       "      <td>Tony Vitale</td>\n",
       "    </tr>\n",
       "    <tr>\n",
       "      <th>1</th>\n",
       "      <td>tt0462036</td>\n",
       "      <td>Steve Phoenix: The Untold Story</td>\n",
       "      <td>2012.0</td>\n",
       "      <td>Drama</td>\n",
       "      <td>Bill Haley</td>\n",
       "    </tr>\n",
       "    <tr>\n",
       "      <th>2</th>\n",
       "      <td>tt0835418</td>\n",
       "      <td>The Babymakers</td>\n",
       "      <td>2012.0</td>\n",
       "      <td>Comedy</td>\n",
       "      <td>Jay Chandrasekhar</td>\n",
       "    </tr>\n",
       "  </tbody>\n",
       "</table>\n",
       "</div>"
      ],
      "text/plain": [
       "    movie_id                            title  start_year  genres  \\\n",
       "0  tt0285252                   Life's a Beach      2012.0  Comedy   \n",
       "1  tt0462036  Steve Phoenix: The Untold Story      2012.0   Drama   \n",
       "2  tt0835418                   The Babymakers      2012.0  Comedy   \n",
       "\n",
       "           directors  \n",
       "0        Tony Vitale  \n",
       "1         Bill Haley  \n",
       "2  Jay Chandrasekhar  "
      ]
     },
     "metadata": {},
     "output_type": "display_data"
    },
    {
     "name": "stdout",
     "output_type": "stream",
     "text": [
      "Number of data entries in imdb_df_merged: 172222\n",
      "\n",
      "Nulls in imdb_df_merged:\n",
      "\n",
      "movie_id      0\n",
      "title         0\n",
      "start_year    0\n",
      "genres        0\n",
      "directors     0\n",
      "dtype: int64\n"
     ]
    }
   ],
   "source": [
    "# Inner merging previous merged table with directors_with_name table.\n",
    "\n",
    "imdb_df_merged = pd.merge(imdb_df, directors_with_names, on='movie_id', how='right')\n",
    "imdb_df_merged = imdb_df_merged.dropna()\n",
    "\n",
    "display(imdb_df_merged.head(3))\n",
    "check_num_entries(imdb_df_merged, 'imdb_df_merged')\n",
    "check_nulls(imdb_df_merged, 'imdb_df_merged')"
   ]
  },
  {
   "cell_type": "markdown",
   "metadata": {},
   "source": [
    "After cleaning the IMDB data, we now have a dataframe where we have movie data alongside the directors and genres."
   ]
  },
  {
   "cell_type": "markdown",
   "metadata": {},
   "source": [
    "### The Numbers"
   ]
  },
  {
   "cell_type": "code",
   "execution_count": 48,
   "metadata": {},
   "outputs": [],
   "source": [
    "# Formatting budget and revenue entries to be used as floats.\n",
    "\n",
    "def format_numbers(number):\n",
    "    number = str(number).strip()\n",
    "    number = str(number).replace('$', '').replace(',', '')\n",
    "    return float(number)\n",
    "\n",
    "for col in ['production_budget', 'domestic_gross', 'worldwide_gross']:\n",
    "    movie_budgets_df[col] = movie_budgets_df[col].apply(format_numbers)"
   ]
  },
  {
   "cell_type": "code",
   "execution_count": 49,
   "metadata": {},
   "outputs": [
    {
     "data": {
      "text/html": [
       "<div>\n",
       "<style scoped>\n",
       "    .dataframe tbody tr th:only-of-type {\n",
       "        vertical-align: middle;\n",
       "    }\n",
       "\n",
       "    .dataframe tbody tr th {\n",
       "        vertical-align: top;\n",
       "    }\n",
       "\n",
       "    .dataframe thead th {\n",
       "        text-align: right;\n",
       "    }\n",
       "</style>\n",
       "<table border=\"1\" class=\"dataframe\">\n",
       "  <thead>\n",
       "    <tr style=\"text-align: right;\">\n",
       "      <th></th>\n",
       "      <th>title</th>\n",
       "      <th>production_budget</th>\n",
       "      <th>domestic_gross</th>\n",
       "      <th>foreign_gross</th>\n",
       "      <th>profit</th>\n",
       "    </tr>\n",
       "  </thead>\n",
       "  <tbody>\n",
       "    <tr>\n",
       "      <th>0</th>\n",
       "      <td>Avatar</td>\n",
       "      <td>425000000.0</td>\n",
       "      <td>760507625.0</td>\n",
       "      <td>2.015838e+09</td>\n",
       "      <td>2.351345e+09</td>\n",
       "    </tr>\n",
       "    <tr>\n",
       "      <th>1</th>\n",
       "      <td>Pirates of the Caribbean: On Stranger Tides</td>\n",
       "      <td>410600000.0</td>\n",
       "      <td>241063875.0</td>\n",
       "      <td>8.046000e+08</td>\n",
       "      <td>6.350639e+08</td>\n",
       "    </tr>\n",
       "    <tr>\n",
       "      <th>2</th>\n",
       "      <td>Dark Phoenix</td>\n",
       "      <td>350000000.0</td>\n",
       "      <td>42762350.0</td>\n",
       "      <td>1.070000e+08</td>\n",
       "      <td>-2.002376e+08</td>\n",
       "    </tr>\n",
       "  </tbody>\n",
       "</table>\n",
       "</div>"
      ],
      "text/plain": [
       "                                         title  production_budget  \\\n",
       "0                                       Avatar        425000000.0   \n",
       "1  Pirates of the Caribbean: On Stranger Tides        410600000.0   \n",
       "2                                 Dark Phoenix        350000000.0   \n",
       "\n",
       "   domestic_gross  foreign_gross        profit  \n",
       "0     760507625.0   2.015838e+09  2.351345e+09  \n",
       "1     241063875.0   8.046000e+08  6.350639e+08  \n",
       "2      42762350.0   1.070000e+08 -2.002376e+08  "
      ]
     },
     "metadata": {},
     "output_type": "display_data"
    },
    {
     "name": "stdout",
     "output_type": "stream",
     "text": [
      "Number of data entries in movie_budgets_df: 5698\n",
      "\n",
      "Nulls in movie_budgets_df:\n",
      "\n",
      "title                0\n",
      "production_budget    0\n",
      "domestic_gross       0\n",
      "foreign_gross        0\n",
      "profit               0\n",
      "dtype: int64\n"
     ]
    }
   ],
   "source": [
    "# Creating a \"profit\" measure.\n",
    "\n",
    "movie_budgets_df['foreign_gross'] = movie_budgets_df['worldwide_gross'] - movie_budgets_df['domestic_gross']\n",
    "movie_budgets_df['profit'] = (movie_budgets_df['domestic_gross'] + movie_budgets_df['foreign_gross']) - movie_budgets_df['production_budget']\n",
    "movie_budgets_df = movie_budgets_df.drop(columns=['worldwide_gross'])\n",
    "movie_budgets_df = movie_budgets_df.rename(columns={'movie': 'title'})\n",
    "movie_budgets_df = movie_budgets_df.drop_duplicates(subset=['title'])\n",
    "movie_budgets_df = movie_budgets_df.reset_index().drop(columns=['index', 'id', 'release_date'])\n",
    "\n",
    "display(movie_budgets_df.head(3))\n",
    "check_num_entries(movie_budgets_df, 'movie_budgets_df')\n",
    "check_nulls(movie_budgets_df, 'movie_budgets_df')"
   ]
  },
  {
   "cell_type": "markdown",
   "metadata": {},
   "source": [
    "The cleaned movie budgets dataframe will give us crucial information with regard to the profitability of a movie. We will now join `imdb_df_merged`, and `movie_budgets_df`."
   ]
  },
  {
   "cell_type": "markdown",
   "metadata": {},
   "source": [
    "---"
   ]
  },
  {
   "cell_type": "markdown",
   "metadata": {},
   "source": [
    "## 4. Creating a Master Dataframe"
   ]
  },
  {
   "cell_type": "code",
   "execution_count": 93,
   "metadata": {},
   "outputs": [
    {
     "data": {
      "text/html": [
       "<div>\n",
       "<style scoped>\n",
       "    .dataframe tbody tr th:only-of-type {\n",
       "        vertical-align: middle;\n",
       "    }\n",
       "\n",
       "    .dataframe tbody tr th {\n",
       "        vertical-align: top;\n",
       "    }\n",
       "\n",
       "    .dataframe thead th {\n",
       "        text-align: right;\n",
       "    }\n",
       "</style>\n",
       "<table border=\"1\" class=\"dataframe\">\n",
       "  <thead>\n",
       "    <tr style=\"text-align: right;\">\n",
       "      <th></th>\n",
       "      <th>movie_id</th>\n",
       "      <th>title</th>\n",
       "      <th>start_year</th>\n",
       "      <th>genres</th>\n",
       "      <th>directors</th>\n",
       "      <th>production_budget</th>\n",
       "      <th>domestic_gross</th>\n",
       "      <th>foreign_gross</th>\n",
       "      <th>profit</th>\n",
       "    </tr>\n",
       "  </thead>\n",
       "  <tbody>\n",
       "    <tr>\n",
       "      <th>0</th>\n",
       "      <td>tt0999913</td>\n",
       "      <td>Straw Dogs</td>\n",
       "      <td>2011.0</td>\n",
       "      <td>Action,Drama,Thriller</td>\n",
       "      <td>Rod Lurie</td>\n",
       "      <td>25000000.0</td>\n",
       "      <td>10324441.0</td>\n",
       "      <td>929380.0</td>\n",
       "      <td>-13746179.0</td>\n",
       "    </tr>\n",
       "    <tr>\n",
       "      <th>4</th>\n",
       "      <td>tt1125929</td>\n",
       "      <td>Love Ranch</td>\n",
       "      <td>2010.0</td>\n",
       "      <td>Biography,Comedy,Drama</td>\n",
       "      <td>Taylor Hackford</td>\n",
       "      <td>25000000.0</td>\n",
       "      <td>137885.0</td>\n",
       "      <td>8264.0</td>\n",
       "      <td>-24853851.0</td>\n",
       "    </tr>\n",
       "    <tr>\n",
       "      <th>5</th>\n",
       "      <td>tt1904996</td>\n",
       "      <td>Parker</td>\n",
       "      <td>2013.0</td>\n",
       "      <td>Action,Crime,Thriller</td>\n",
       "      <td>Taylor Hackford</td>\n",
       "      <td>35000000.0</td>\n",
       "      <td>17616641.0</td>\n",
       "      <td>30926747.0</td>\n",
       "      <td>13543388.0</td>\n",
       "    </tr>\n",
       "  </tbody>\n",
       "</table>\n",
       "</div>"
      ],
      "text/plain": [
       "    movie_id       title  start_year                  genres        directors  \\\n",
       "0  tt0999913  Straw Dogs      2011.0   Action,Drama,Thriller        Rod Lurie   \n",
       "4  tt1125929  Love Ranch      2010.0  Biography,Comedy,Drama  Taylor Hackford   \n",
       "5  tt1904996      Parker      2013.0   Action,Crime,Thriller  Taylor Hackford   \n",
       "\n",
       "   production_budget  domestic_gross  foreign_gross      profit  \n",
       "0         25000000.0      10324441.0       929380.0 -13746179.0  \n",
       "4         25000000.0        137885.0         8264.0 -24853851.0  \n",
       "5         35000000.0      17616641.0     30926747.0  13543388.0  "
      ]
     },
     "metadata": {},
     "output_type": "display_data"
    },
    {
     "name": "stdout",
     "output_type": "stream",
     "text": [
      "Number of data entries in merged_df: 2950\n",
      "\n",
      "Nulls in merged_df:\n",
      "\n",
      "movie_id             0\n",
      "title                0\n",
      "start_year           0\n",
      "genres               0\n",
      "directors            0\n",
      "production_budget    0\n",
      "domestic_gross       0\n",
      "foreign_gross        0\n",
      "profit               0\n",
      "dtype: int64\n"
     ]
    }
   ],
   "source": [
    "# Merging movie_budgets dataframe and imdb_merged dataframe\n",
    "\n",
    "merged_df = pd.merge(imdb_df_merged, movie_budgets_df, on='title', how='inner')\n",
    "merged_df = merged_df.drop_duplicates(subset=['movie_id', 'directors'])\n",
    "merged_df.head(3)\n",
    "\n",
    "display(merged_df.head(3))\n",
    "check_num_entries(merged_df, 'merged_df')\n",
    "check_nulls(merged_df, 'merged_df')"
   ]
  },
  {
   "cell_type": "code",
   "execution_count": 94,
   "metadata": {},
   "outputs": [],
   "source": [
    "# Removing Animation from genres\n",
    "# We remove Animation from our list of genres as animated movies tend not to be attributed to any one director\n",
    "# and involve working with multiple individuals, and this does not jive with our analysis, a facet of which is rooted\n",
    "# in analyzing director profitability/cost efficiency.\n",
    "\n",
    "merged_df = merged_df[~merged_df['genres'].str.contains('Animation')]"
   ]
  },
  {
   "cell_type": "code",
   "execution_count": 95,
   "metadata": {},
   "outputs": [
    {
     "data": {
      "text/html": [
       "<div>\n",
       "<style scoped>\n",
       "    .dataframe tbody tr th:only-of-type {\n",
       "        vertical-align: middle;\n",
       "    }\n",
       "\n",
       "    .dataframe tbody tr th {\n",
       "        vertical-align: top;\n",
       "    }\n",
       "\n",
       "    .dataframe thead th {\n",
       "        text-align: right;\n",
       "    }\n",
       "</style>\n",
       "<table border=\"1\" class=\"dataframe\">\n",
       "  <thead>\n",
       "    <tr style=\"text-align: right;\">\n",
       "      <th></th>\n",
       "      <th>movie_id</th>\n",
       "      <th>directors_x</th>\n",
       "      <th>title</th>\n",
       "      <th>start_year</th>\n",
       "      <th>genres</th>\n",
       "      <th>directors_y</th>\n",
       "      <th>production_budget</th>\n",
       "      <th>domestic_gross</th>\n",
       "      <th>foreign_gross</th>\n",
       "      <th>profit</th>\n",
       "    </tr>\n",
       "  </thead>\n",
       "  <tbody>\n",
       "    <tr>\n",
       "      <th>0</th>\n",
       "      <td>tt0337692</td>\n",
       "      <td>[Walter Salles]</td>\n",
       "      <td>On the Road</td>\n",
       "      <td>2012.0</td>\n",
       "      <td>Adventure,Drama,Romance</td>\n",
       "      <td>Walter Salles</td>\n",
       "      <td>25000000.0</td>\n",
       "      <td>720828.0</td>\n",
       "      <td>8592474.0</td>\n",
       "      <td>-15686698.0</td>\n",
       "    </tr>\n",
       "    <tr>\n",
       "      <th>1</th>\n",
       "      <td>tt0359950</td>\n",
       "      <td>[Ben Stiller]</td>\n",
       "      <td>The Secret Life of Walter Mitty</td>\n",
       "      <td>2013.0</td>\n",
       "      <td>Adventure,Comedy,Drama</td>\n",
       "      <td>Ben Stiller</td>\n",
       "      <td>91000000.0</td>\n",
       "      <td>58236838.0</td>\n",
       "      <td>129624345.0</td>\n",
       "      <td>96861183.0</td>\n",
       "    </tr>\n",
       "    <tr>\n",
       "      <th>2</th>\n",
       "      <td>tt0365907</td>\n",
       "      <td>[Scott Frank]</td>\n",
       "      <td>A Walk Among the Tombstones</td>\n",
       "      <td>2014.0</td>\n",
       "      <td>Action,Crime,Drama</td>\n",
       "      <td>Scott Frank</td>\n",
       "      <td>28000000.0</td>\n",
       "      <td>26017685.0</td>\n",
       "      <td>36090902.0</td>\n",
       "      <td>34108587.0</td>\n",
       "    </tr>\n",
       "  </tbody>\n",
       "</table>\n",
       "</div>"
      ],
      "text/plain": [
       "    movie_id      directors_x                            title  start_year  \\\n",
       "0  tt0337692  [Walter Salles]                      On the Road      2012.0   \n",
       "1  tt0359950    [Ben Stiller]  The Secret Life of Walter Mitty      2013.0   \n",
       "2  tt0365907    [Scott Frank]      A Walk Among the Tombstones      2014.0   \n",
       "\n",
       "                    genres    directors_y  production_budget  domestic_gross  \\\n",
       "0  Adventure,Drama,Romance  Walter Salles         25000000.0        720828.0   \n",
       "1   Adventure,Comedy,Drama    Ben Stiller         91000000.0      58236838.0   \n",
       "2       Action,Crime,Drama    Scott Frank         28000000.0      26017685.0   \n",
       "\n",
       "   foreign_gross      profit  \n",
       "0      8592474.0 -15686698.0  \n",
       "1    129624345.0  96861183.0  \n",
       "2     36090902.0  34108587.0  "
      ]
     },
     "metadata": {},
     "output_type": "display_data"
    },
    {
     "name": "stdout",
     "output_type": "stream",
     "text": [
      "Number of data entries in merged_df: 2769\n",
      "\n",
      "Nulls in merged_df:\n",
      "\n",
      "movie_id             0\n",
      "directors_x          0\n",
      "title                0\n",
      "start_year           0\n",
      "genres               0\n",
      "directors_y          0\n",
      "production_budget    0\n",
      "domestic_gross       0\n",
      "foreign_gross        0\n",
      "profit               0\n",
      "dtype: int64\n"
     ]
    }
   ],
   "source": [
    "# Creating a dataframe where there are multiple directors for the same movie.\n",
    "\n",
    "merged_df = pd.merge(merged_df.groupby('movie_id')['directors'].apply(list).reset_index(), merged_df, on='movie_id', how='left')\n",
    "# merged_df = merged_df.drop_duplicates(subset=['movie_id', 'directors_x'])\n",
    "\n",
    "display(merged_df.head(3))\n",
    "check_num_entries(merged_df, 'merged_df')\n",
    "check_nulls(merged_df, 'merged_df')"
   ]
  },
  {
   "cell_type": "markdown",
   "metadata": {},
   "source": [
    "We now have `merged_df`, a dataframe containing information on genres, directors, and profit. We can now create an ROI metric off of the profit and budget data. Additionally, we create `unique_directors_df` and `unique_genres_df`. The former is a dataframe with unique combinations of `movie_id` and `directors` as there are multiple directors for some movies. This will give us a clearer picture of which directors are the most profitable and have the highest ROI. The latter is a dataframe where the genres of a movie are split up, so as to give us insight as to which genres are the most profitable and have the highest ROI."
   ]
  },
  {
   "cell_type": "markdown",
   "metadata": {},
   "source": [
    "### Creating a dataframe with unique movie-director combos (some movies have multiple directors)"
   ]
  },
  {
   "cell_type": "code",
   "execution_count": 98,
   "metadata": {},
   "outputs": [
    {
     "data": {
      "text/html": [
       "<div>\n",
       "<style scoped>\n",
       "    .dataframe tbody tr th:only-of-type {\n",
       "        vertical-align: middle;\n",
       "    }\n",
       "\n",
       "    .dataframe tbody tr th {\n",
       "        vertical-align: top;\n",
       "    }\n",
       "\n",
       "    .dataframe thead th {\n",
       "        text-align: right;\n",
       "    }\n",
       "</style>\n",
       "<table border=\"1\" class=\"dataframe\">\n",
       "  <thead>\n",
       "    <tr style=\"text-align: right;\">\n",
       "      <th></th>\n",
       "      <th>movie_id</th>\n",
       "      <th>directors</th>\n",
       "      <th>title</th>\n",
       "      <th>start_year</th>\n",
       "      <th>genres</th>\n",
       "      <th>production_budget</th>\n",
       "      <th>domestic_gross</th>\n",
       "      <th>foreign_gross</th>\n",
       "      <th>profit</th>\n",
       "    </tr>\n",
       "  </thead>\n",
       "  <tbody>\n",
       "    <tr>\n",
       "      <th>0</th>\n",
       "      <td>tt0337692</td>\n",
       "      <td>Walter Salles</td>\n",
       "      <td>On the Road</td>\n",
       "      <td>2012.0</td>\n",
       "      <td>Adventure,Drama,Romance</td>\n",
       "      <td>25000000.0</td>\n",
       "      <td>720828.0</td>\n",
       "      <td>8592474.0</td>\n",
       "      <td>-15686698.0</td>\n",
       "    </tr>\n",
       "    <tr>\n",
       "      <th>1</th>\n",
       "      <td>tt0359950</td>\n",
       "      <td>Ben Stiller</td>\n",
       "      <td>The Secret Life of Walter Mitty</td>\n",
       "      <td>2013.0</td>\n",
       "      <td>Adventure,Comedy,Drama</td>\n",
       "      <td>91000000.0</td>\n",
       "      <td>58236838.0</td>\n",
       "      <td>129624345.0</td>\n",
       "      <td>96861183.0</td>\n",
       "    </tr>\n",
       "    <tr>\n",
       "      <th>2</th>\n",
       "      <td>tt0365907</td>\n",
       "      <td>Scott Frank</td>\n",
       "      <td>A Walk Among the Tombstones</td>\n",
       "      <td>2014.0</td>\n",
       "      <td>Action,Crime,Drama</td>\n",
       "      <td>28000000.0</td>\n",
       "      <td>26017685.0</td>\n",
       "      <td>36090902.0</td>\n",
       "      <td>34108587.0</td>\n",
       "    </tr>\n",
       "  </tbody>\n",
       "</table>\n",
       "</div>"
      ],
      "text/plain": [
       "    movie_id      directors                            title  start_year  \\\n",
       "0  tt0337692  Walter Salles                      On the Road      2012.0   \n",
       "1  tt0359950    Ben Stiller  The Secret Life of Walter Mitty      2013.0   \n",
       "2  tt0365907    Scott Frank      A Walk Among the Tombstones      2014.0   \n",
       "\n",
       "                    genres  production_budget  domestic_gross  foreign_gross  \\\n",
       "0  Adventure,Drama,Romance         25000000.0        720828.0      8592474.0   \n",
       "1   Adventure,Comedy,Drama         91000000.0      58236838.0    129624345.0   \n",
       "2       Action,Crime,Drama         28000000.0      26017685.0     36090902.0   \n",
       "\n",
       "       profit  \n",
       "0 -15686698.0  \n",
       "1  96861183.0  \n",
       "2  34108587.0  "
      ]
     },
     "metadata": {},
     "output_type": "display_data"
    },
    {
     "name": "stdout",
     "output_type": "stream",
     "text": [
      "Number of data entries in unique_directors_df: 2165\n",
      "\n",
      "Nulls in unique_directors_df:\n",
      "\n",
      "movie_id             0\n",
      "directors            0\n",
      "title                0\n",
      "start_year           0\n",
      "genres               0\n",
      "production_budget    0\n",
      "domestic_gross       0\n",
      "foreign_gross        0\n",
      "profit               0\n",
      "dtype: int64\n"
     ]
    }
   ],
   "source": [
    "# Creating a unique_directors dataframe where there each row has unique movie_id and directors combos.\n",
    "\n",
    "unique_directors_df = merged_df.drop(columns='directors_y').rename(columns={'directors_x': 'directors'})\n",
    "unique_directors_df = unique_directors_df.drop_duplicates(subset=['movie_id'])\n",
    "unique_directors_df = unique_directors_df.drop_duplicates(subset=['title'])\n",
    "unique_directors_df = unique_directors_df.reset_index().drop(columns='index')\n",
    "unique_directors_df = unique_directors_df.explode('directors')\n",
    "unique_directors_df.head(5)\n",
    "\n",
    "display(unique_directors_df.head(3))\n",
    "check_num_entries(unique_directors_df, 'unique_directors_df')\n",
    "check_nulls(unique_directors_df, 'unique_directors_df')"
   ]
  },
  {
   "cell_type": "code",
   "execution_count": 99,
   "metadata": {},
   "outputs": [
    {
     "data": {
      "text/html": [
       "<div>\n",
       "<style scoped>\n",
       "    .dataframe tbody tr th:only-of-type {\n",
       "        vertical-align: middle;\n",
       "    }\n",
       "\n",
       "    .dataframe tbody tr th {\n",
       "        vertical-align: top;\n",
       "    }\n",
       "\n",
       "    .dataframe thead th {\n",
       "        text-align: right;\n",
       "    }\n",
       "</style>\n",
       "<table border=\"1\" class=\"dataframe\">\n",
       "  <thead>\n",
       "    <tr style=\"text-align: right;\">\n",
       "      <th></th>\n",
       "      <th>movie_id</th>\n",
       "      <th>directors</th>\n",
       "      <th>title</th>\n",
       "      <th>start_year</th>\n",
       "      <th>genres</th>\n",
       "      <th>production_budget</th>\n",
       "      <th>domestic_gross</th>\n",
       "      <th>foreign_gross</th>\n",
       "      <th>profit</th>\n",
       "      <th>roi</th>\n",
       "    </tr>\n",
       "  </thead>\n",
       "  <tbody>\n",
       "    <tr>\n",
       "      <th>0</th>\n",
       "      <td>tt1322312</td>\n",
       "      <td>Nanette Burstein</td>\n",
       "      <td>Going the Distance</td>\n",
       "      <td>2010.0</td>\n",
       "      <td>Comedy,Romance</td>\n",
       "      <td>32000000.0</td>\n",
       "      <td>17804299.0</td>\n",
       "      <td>25799691.0</td>\n",
       "      <td>11603990.0</td>\n",
       "      <td>0.362625</td>\n",
       "    </tr>\n",
       "    <tr>\n",
       "      <th>1</th>\n",
       "      <td>tt1484522</td>\n",
       "      <td>Steven Greenstreet</td>\n",
       "      <td>8: The Mormon Proposition</td>\n",
       "      <td>2010.0</td>\n",
       "      <td>Documentary</td>\n",
       "      <td>2500000.0</td>\n",
       "      <td>100280.0</td>\n",
       "      <td>0.0</td>\n",
       "      <td>-2399720.0</td>\n",
       "      <td>-0.959888</td>\n",
       "    </tr>\n",
       "    <tr>\n",
       "      <th>2</th>\n",
       "      <td>tt1233192</td>\n",
       "      <td>Rowan Joffe</td>\n",
       "      <td>Brighton Rock</td>\n",
       "      <td>2010.0</td>\n",
       "      <td>Crime,Drama,Thriller</td>\n",
       "      <td>11000000.0</td>\n",
       "      <td>229653.0</td>\n",
       "      <td>0.0</td>\n",
       "      <td>-10770347.0</td>\n",
       "      <td>-0.979122</td>\n",
       "    </tr>\n",
       "  </tbody>\n",
       "</table>\n",
       "</div>"
      ],
      "text/plain": [
       "    movie_id           directors                      title  start_year  \\\n",
       "0  tt1322312    Nanette Burstein         Going the Distance      2010.0   \n",
       "1  tt1484522  Steven Greenstreet  8: The Mormon Proposition      2010.0   \n",
       "2  tt1233192         Rowan Joffe              Brighton Rock      2010.0   \n",
       "\n",
       "                 genres  production_budget  domestic_gross  foreign_gross  \\\n",
       "0        Comedy,Romance         32000000.0      17804299.0     25799691.0   \n",
       "1           Documentary          2500000.0        100280.0            0.0   \n",
       "2  Crime,Drama,Thriller         11000000.0        229653.0            0.0   \n",
       "\n",
       "       profit       roi  \n",
       "0  11603990.0  0.362625  \n",
       "1  -2399720.0 -0.959888  \n",
       "2 -10770347.0 -0.979122  "
      ]
     },
     "metadata": {},
     "output_type": "display_data"
    },
    {
     "name": "stdout",
     "output_type": "stream",
     "text": [
      "Number of data entries in unique_directors_df: 1956\n",
      "\n",
      "Nulls in unique_directors_df:\n",
      "\n",
      "movie_id             0\n",
      "directors            0\n",
      "title                0\n",
      "start_year           0\n",
      "genres               0\n",
      "production_budget    0\n",
      "domestic_gross       0\n",
      "foreign_gross        0\n",
      "profit               0\n",
      "roi                  0\n",
      "dtype: int64\n"
     ]
    }
   ],
   "source": [
    "# Slicing a part of unique directors where we have valid revenue data to be able to create a valid ROI metric.\n",
    "\n",
    "unique_directors_df = unique_directors_df.loc[~((unique_directors_df['domestic_gross'] == 0) & (unique_directors_df['foreign_gross'] == 0))]\n",
    "unique_directors_df['roi'] = unique_directors_df['profit'] / unique_directors_df['production_budget']\n",
    "unique_directors_df = unique_directors_df.drop_duplicates(subset=['movie_id', 'directors'])\n",
    "unique_directors_df = unique_directors_df.sort_values(by='start_year').reset_index().drop(columns='index')\n",
    "unique_directors_df.head()\n",
    "\n",
    "display(unique_directors_df.head(3))\n",
    "check_num_entries(unique_directors_df, 'unique_directors_df')\n",
    "check_nulls(unique_directors_df, 'unique_directors_df')"
   ]
  },
  {
   "cell_type": "markdown",
   "metadata": {},
   "source": [
    "### Creating a dataframe with unique movie-director combos (some movies have multiple directors)"
   ]
  },
  {
   "cell_type": "code",
   "execution_count": 106,
   "metadata": {},
   "outputs": [
    {
     "data": {
      "text/html": [
       "<div>\n",
       "<style scoped>\n",
       "    .dataframe tbody tr th:only-of-type {\n",
       "        vertical-align: middle;\n",
       "    }\n",
       "\n",
       "    .dataframe tbody tr th {\n",
       "        vertical-align: top;\n",
       "    }\n",
       "\n",
       "    .dataframe thead th {\n",
       "        text-align: right;\n",
       "    }\n",
       "</style>\n",
       "<table border=\"1\" class=\"dataframe\">\n",
       "  <thead>\n",
       "    <tr style=\"text-align: right;\">\n",
       "      <th></th>\n",
       "      <th>movie_id</th>\n",
       "      <th>directors_x</th>\n",
       "      <th>title</th>\n",
       "      <th>start_year</th>\n",
       "      <th>genres</th>\n",
       "      <th>production_budget</th>\n",
       "      <th>domestic_gross</th>\n",
       "      <th>foreign_gross</th>\n",
       "      <th>profit</th>\n",
       "    </tr>\n",
       "  </thead>\n",
       "  <tbody>\n",
       "    <tr>\n",
       "      <th>0</th>\n",
       "      <td>tt0337692</td>\n",
       "      <td>[Walter Salles]</td>\n",
       "      <td>On the Road</td>\n",
       "      <td>2012.0</td>\n",
       "      <td>[Adventure, Drama, Romance]</td>\n",
       "      <td>25000000.0</td>\n",
       "      <td>720828.0</td>\n",
       "      <td>8592474.0</td>\n",
       "      <td>-15686698.0</td>\n",
       "    </tr>\n",
       "    <tr>\n",
       "      <th>1</th>\n",
       "      <td>tt0359950</td>\n",
       "      <td>[Ben Stiller]</td>\n",
       "      <td>The Secret Life of Walter Mitty</td>\n",
       "      <td>2013.0</td>\n",
       "      <td>[Adventure, Comedy, Drama]</td>\n",
       "      <td>91000000.0</td>\n",
       "      <td>58236838.0</td>\n",
       "      <td>129624345.0</td>\n",
       "      <td>96861183.0</td>\n",
       "    </tr>\n",
       "    <tr>\n",
       "      <th>2</th>\n",
       "      <td>tt0365907</td>\n",
       "      <td>[Scott Frank]</td>\n",
       "      <td>A Walk Among the Tombstones</td>\n",
       "      <td>2014.0</td>\n",
       "      <td>[Action, Crime, Drama]</td>\n",
       "      <td>28000000.0</td>\n",
       "      <td>26017685.0</td>\n",
       "      <td>36090902.0</td>\n",
       "      <td>34108587.0</td>\n",
       "    </tr>\n",
       "  </tbody>\n",
       "</table>\n",
       "</div>"
      ],
      "text/plain": [
       "    movie_id      directors_x                            title  start_year  \\\n",
       "0  tt0337692  [Walter Salles]                      On the Road      2012.0   \n",
       "1  tt0359950    [Ben Stiller]  The Secret Life of Walter Mitty      2013.0   \n",
       "2  tt0365907    [Scott Frank]      A Walk Among the Tombstones      2014.0   \n",
       "\n",
       "                        genres  production_budget  domestic_gross  \\\n",
       "0  [Adventure, Drama, Romance]         25000000.0        720828.0   \n",
       "1   [Adventure, Comedy, Drama]         91000000.0      58236838.0   \n",
       "2       [Action, Crime, Drama]         28000000.0      26017685.0   \n",
       "\n",
       "   foreign_gross      profit  \n",
       "0      8592474.0 -15686698.0  \n",
       "1    129624345.0  96861183.0  \n",
       "2     36090902.0  34108587.0  "
      ]
     },
     "execution_count": 106,
     "metadata": {},
     "output_type": "execute_result"
    }
   ],
   "source": [
    "# Turning genres entries into an explodable lists.\n",
    "\n",
    "genres_listed = merged_df.drop(columns='directors_y').copy()\n",
    "genres_listed['genres'] = genres_listed['genres'].apply(lambda genre: genre.split(','))\n",
    "genres_listed.head(3)"
   ]
  },
  {
   "cell_type": "code",
   "execution_count": 117,
   "metadata": {},
   "outputs": [
    {
     "data": {
      "text/html": [
       "<div>\n",
       "<style scoped>\n",
       "    .dataframe tbody tr th:only-of-type {\n",
       "        vertical-align: middle;\n",
       "    }\n",
       "\n",
       "    .dataframe tbody tr th {\n",
       "        vertical-align: top;\n",
       "    }\n",
       "\n",
       "    .dataframe thead th {\n",
       "        text-align: right;\n",
       "    }\n",
       "</style>\n",
       "<table border=\"1\" class=\"dataframe\">\n",
       "  <thead>\n",
       "    <tr style=\"text-align: right;\">\n",
       "      <th></th>\n",
       "      <th>movie_id</th>\n",
       "      <th>directors_x</th>\n",
       "      <th>title</th>\n",
       "      <th>start_year</th>\n",
       "      <th>genres</th>\n",
       "      <th>production_budget</th>\n",
       "      <th>domestic_gross</th>\n",
       "      <th>foreign_gross</th>\n",
       "      <th>profit</th>\n",
       "      <th>roi</th>\n",
       "    </tr>\n",
       "  </thead>\n",
       "  <tbody>\n",
       "    <tr>\n",
       "      <th>0</th>\n",
       "      <td>tt0337692</td>\n",
       "      <td>[Walter Salles]</td>\n",
       "      <td>On the Road</td>\n",
       "      <td>2012.0</td>\n",
       "      <td>Adventure</td>\n",
       "      <td>25000000.0</td>\n",
       "      <td>720828.0</td>\n",
       "      <td>8592474.0</td>\n",
       "      <td>-15686698.0</td>\n",
       "      <td>-0.627468</td>\n",
       "    </tr>\n",
       "    <tr>\n",
       "      <th>0</th>\n",
       "      <td>tt0337692</td>\n",
       "      <td>[Walter Salles]</td>\n",
       "      <td>On the Road</td>\n",
       "      <td>2012.0</td>\n",
       "      <td>Drama</td>\n",
       "      <td>25000000.0</td>\n",
       "      <td>720828.0</td>\n",
       "      <td>8592474.0</td>\n",
       "      <td>-15686698.0</td>\n",
       "      <td>-0.627468</td>\n",
       "    </tr>\n",
       "    <tr>\n",
       "      <th>0</th>\n",
       "      <td>tt0337692</td>\n",
       "      <td>[Walter Salles]</td>\n",
       "      <td>On the Road</td>\n",
       "      <td>2012.0</td>\n",
       "      <td>Romance</td>\n",
       "      <td>25000000.0</td>\n",
       "      <td>720828.0</td>\n",
       "      <td>8592474.0</td>\n",
       "      <td>-15686698.0</td>\n",
       "      <td>-0.627468</td>\n",
       "    </tr>\n",
       "  </tbody>\n",
       "</table>\n",
       "</div>"
      ],
      "text/plain": [
       "    movie_id      directors_x        title  start_year     genres  \\\n",
       "0  tt0337692  [Walter Salles]  On the Road      2012.0  Adventure   \n",
       "0  tt0337692  [Walter Salles]  On the Road      2012.0      Drama   \n",
       "0  tt0337692  [Walter Salles]  On the Road      2012.0    Romance   \n",
       "\n",
       "   production_budget  domestic_gross  foreign_gross      profit       roi  \n",
       "0         25000000.0        720828.0      8592474.0 -15686698.0 -0.627468  \n",
       "0         25000000.0        720828.0      8592474.0 -15686698.0 -0.627468  \n",
       "0         25000000.0        720828.0      8592474.0 -15686698.0 -0.627468  "
      ]
     },
     "metadata": {},
     "output_type": "display_data"
    },
    {
     "name": "stdout",
     "output_type": "stream",
     "text": [
      "Number of data entries in unique_genres_df: 5584\n",
      "\n",
      "Nulls in unique_genres_df:\n",
      "\n",
      "movie_id             0\n",
      "directors_x          0\n",
      "title                0\n",
      "start_year           0\n",
      "genres               0\n",
      "production_budget    0\n",
      "domestic_gross       0\n",
      "foreign_gross        0\n",
      "profit               0\n",
      "roi                  0\n",
      "dtype: int64\n"
     ]
    }
   ],
   "source": [
    "# Creating a dataframe where there are multiple genres for the same movie.\n",
    "\n",
    "unique_genres_df = genres_listed.explode('genres')\n",
    "unique_genres_df = unique_genres_df.loc[~((unique_genres_df['domestic_gross'] == 0) & (unique_genres_df['foreign_gross'] == 0))]\n",
    "unique_genres_df['roi'] = unique_genres_df['profit'] / unique_genres_df['production_budget']\n",
    "\n",
    "display(unique_genres_df.head(3))\n",
    "check_num_entries(unique_genres_df, 'unique_genres_df')\n",
    "check_nulls(unique_genres_df, 'unique_genres_df')"
   ]
  },
  {
   "cell_type": "markdown",
   "metadata": {},
   "source": [
    "---"
   ]
  },
  {
   "cell_type": "markdown",
   "metadata": {},
   "source": [
    "## 5. ROI Analysis"
   ]
  },
  {
   "cell_type": "code",
   "execution_count": 130,
   "metadata": {},
   "outputs": [],
   "source": [
    "# Defining a function to analyze by director and genre.\n",
    "\n",
    "def top_bottom_analysis(df, groupby, method, column, n=5):\n",
    "    if method == 'mean':\n",
    "        metric = df.groupby(groupby).mean()[column].reset_index()\n",
    "    elif method == 'sum':\n",
    "        metric = df.groupby(groupby).mean()[column].reset_index()\n",
    "    metric = metric.sort_values(by=column, ascending=False)\n",
    "    top = metric[:n].set_index(groupby).squeeze()\n",
    "    bottom = metric.iloc[::-1][:n].set_index(groupby).squeeze()\n",
    "    return top, bottom"
   ]
  },
  {
   "cell_type": "markdown",
   "metadata": {},
   "source": [
    "### Highest ROI Directors"
   ]
  },
  {
   "cell_type": "code",
   "execution_count": 120,
   "metadata": {},
   "outputs": [
    {
     "data": {
      "text/plain": [
       "directors\n",
       "David O. Russell     6.365257\n",
       "Steven Soderbergh    5.914333\n",
       "Tim Story            5.744133\n",
       "John Madden          5.315370\n",
       "Bryan Singer         5.018380\n",
       "Name: roi, dtype: float64"
      ]
     },
     "metadata": {},
     "output_type": "display_data"
    }
   ],
   "source": [
    "# Finding directors that have the highest mean ROI.\n",
    "# We require directors to have more than 3 movies and to have a mean ROI value of more than 1.2 (20% margin).\n",
    "# We filter out the outliers because of their extremity.\n",
    "\n",
    "num_movies_threshold = 3\n",
    "roi_threshold = 1.2\n",
    "\n",
    "highest_roi_directors, _ = top_bottom_analysis(unique_directors_df, 'directors', 'mean', 'roi', len(unique_directors_df))\n",
    "\n",
    "Q1 = highest_roi_directors.quantile(0.25)\n",
    "Q3 = highest_roi_directors.quantile(0.75)\n",
    "IQR = Q3 - Q1\n",
    "filtered_highest_roi_directors = highest_roi_directors[(highest_roi_directors >= Q1 - 1.5*IQR) & (highest_roi_directors <= Q3 + 1.5*IQR)]\n",
    "\n",
    "director_counts = unique_directors_df['directors'].value_counts()\n",
    "directors_to_keep = director_counts[director_counts > num_movies_threshold].index\n",
    "filtered_highest_roi_directors = filtered_highest_roi_directors[filtered_highest_roi_directors.index.isin(directors_to_keep)]\n",
    "filtered_highest_roi_directors = filtered_highest_roi_directors[filtered_highest_roi_directors > roi_threshold]\n",
    "\n",
    "display(filtered_highest_roi_directors.head(5))"
   ]
  },
  {
   "cell_type": "markdown",
   "metadata": {},
   "source": [
    "### Highest ROI Genres"
   ]
  },
  {
   "cell_type": "code",
   "execution_count": 119,
   "metadata": {},
   "outputs": [
    {
     "data": {
      "text/plain": [
       "genres\n",
       "Mystery        9.293255\n",
       "Horror         8.547854\n",
       "Thriller       5.807321\n",
       "Sport          4.606220\n",
       "Documentary    3.669681\n",
       "Name: roi, dtype: float64"
      ]
     },
     "metadata": {},
     "output_type": "display_data"
    }
   ],
   "source": [
    "# Finding genres that have the highest ROI.\n",
    "# We require genres to also have a minimum ROI of 1.2.\n",
    "\n",
    "highest_roi_genres, _ = top_bottom_analysis(unique_genres_df, 'genres', 'mean', 'roi', len(unique_genres_df))\n",
    "highest_roi_genres = highest_roi_genres[highest_roi_genres > roi_threshold]\n",
    "\n",
    "display(highest_roi_genres.head(5))"
   ]
  },
  {
   "cell_type": "markdown",
   "metadata": {},
   "source": [
    "---"
   ]
  },
  {
   "cell_type": "markdown",
   "metadata": {},
   "source": [
    "## 7. Regressing Production Budget and Profit"
   ]
  },
  {
   "cell_type": "code",
   "execution_count": 123,
   "metadata": {},
   "outputs": [
    {
     "data": {
      "text/html": [
       "<div>\n",
       "<style scoped>\n",
       "    .dataframe tbody tr th:only-of-type {\n",
       "        vertical-align: middle;\n",
       "    }\n",
       "\n",
       "    .dataframe tbody tr th {\n",
       "        vertical-align: top;\n",
       "    }\n",
       "\n",
       "    .dataframe thead th {\n",
       "        text-align: right;\n",
       "    }\n",
       "</style>\n",
       "<table border=\"1\" class=\"dataframe\">\n",
       "  <thead>\n",
       "    <tr style=\"text-align: right;\">\n",
       "      <th></th>\n",
       "      <th>production_budget</th>\n",
       "      <th>profit</th>\n",
       "    </tr>\n",
       "  </thead>\n",
       "  <tbody>\n",
       "    <tr>\n",
       "      <th>0</th>\n",
       "      <td>25000000.0</td>\n",
       "      <td>-1.568670e+07</td>\n",
       "    </tr>\n",
       "    <tr>\n",
       "      <th>1</th>\n",
       "      <td>91000000.0</td>\n",
       "      <td>9.686118e+07</td>\n",
       "    </tr>\n",
       "    <tr>\n",
       "      <th>2</th>\n",
       "      <td>28000000.0</td>\n",
       "      <td>3.410859e+07</td>\n",
       "    </tr>\n",
       "    <tr>\n",
       "      <th>3</th>\n",
       "      <td>215000000.0</td>\n",
       "      <td>1.433855e+09</td>\n",
       "    </tr>\n",
       "    <tr>\n",
       "      <th>4</th>\n",
       "      <td>45000000.0</td>\n",
       "      <td>-2.345527e+07</td>\n",
       "    </tr>\n",
       "  </tbody>\n",
       "</table>\n",
       "</div>"
      ],
      "text/plain": [
       "   production_budget        profit\n",
       "0         25000000.0 -1.568670e+07\n",
       "1         91000000.0  9.686118e+07\n",
       "2         28000000.0  3.410859e+07\n",
       "3        215000000.0  1.433855e+09\n",
       "4         45000000.0 -2.345527e+07"
      ]
     },
     "execution_count": 123,
     "metadata": {},
     "output_type": "execute_result"
    }
   ],
   "source": [
    "budget_profit_regression_df = merged_df[['production_budget', 'profit']].drop_duplicates().copy()\n",
    "budget_profit_regression_df.head(5)"
   ]
  },
  {
   "cell_type": "code",
   "execution_count": 126,
   "metadata": {},
   "outputs": [
    {
     "name": "stdout",
     "output_type": "stream",
     "text": [
      "profit change per one unit increase in budget: $2.33\n"
     ]
    }
   ],
   "source": [
    "X = budget_profit_regression_df['production_budget']\n",
    "y = budget_profit_regression_df['profit']\n",
    "\n",
    "lin_reg = sm.OLS(y, sm.add_constant(X)).fit()\n",
    "print(f'profit change per one unit increase in budget: ${lin_reg.params[1]:,.2f}')"
   ]
  },
  {
   "cell_type": "code",
   "execution_count": 129,
   "metadata": {},
   "outputs": [
    {
     "data": {
      "image/png": "[encoded data removed]",
      "text/plain": [
       "<Figure size 1440x720 with 1 Axes>"
      ]
     },
     "metadata": {},
     "output_type": "display_data"
    }
   ],
   "source": [
    "def millions(x, pos):\n",
    "    return f'{x * 1e-6}'\n",
    "\n",
    "formatter = mtick.FuncFormatter(millions)\n",
    "\n",
    "budget_profit_regression_df.plot.scatter(x='production_budget', y='profit', figsize=(20, 10), s=100, marker='x', c=\"#3A8EFF\")\n",
    "\n",
    "plt.gca().xaxis.set_major_formatter(formatter)\n",
    "plt.gca().yaxis.set_major_formatter(formatter)\n",
    "\n",
    "coef = lin_reg.params[1]\n",
    "intercept = lin_reg.params[0]\n",
    "x = np.linspace(budget_profit_regression_df['production_budget'].min(), budget_profit_regression_df['production_budget'].max(), 100)\n",
    "y = coef * x + intercept\n",
    "plt.plot(x, y, color='k', alpha=.5)\n",
    "\n",
    "plt.title('Production Budget v. Profit')\n",
    "plt.xlabel('Production Budget (in millions $)')\n",
    "plt.ylabel('Profit (in millions $)')\n",
    "plt.show()"
   ]
  },
  {
   "cell_type": "markdown",
   "metadata": {},
   "source": [
    "# Conclusion\n",
    "\n",
    "Based on the analysis, several key factors have been identified that can significantly influence the success of your film project: Budget Impact: The analysis suggests that budget plays a crucial role in the success of a film. Larger budgets are associated with higher expected box office gross. However, it is essential to note that higher budgets also come with increased risk. Therefore, filmmakers should carefully evaluate their financial resources and ensure that the budget aligns with the production's potential return on investment. While a larger budget may open doors to grander productions, it's equally essential to manage and optimize expenses to minimize risk.\n",
    "\n",
    "Genre Selection: The analysis highlights the significance of choosing the right genre for a successful movie. Genres like animation, action and adventure, science fiction, and fantasy have been shown to be more profitable. Filmmakers should consider audience preferences, market trends, and the potential for the chosen genre to attract viewers and generate box office revenue. However, it's essential to maintain creativity and uniqueness within the chosen genre to stand out from the competition and engage the audience effectively. The director's role is significant in shaping the film's overall quality and appeal. Collaborating with experienced and reputable directors can enhance the project's chances of success. Filmmakers should carefully consider a director's track record, style, and vision to ensure alignment with the project's objectives.\n",
    "\n",
    "In conclusion, a successful film project requires a well-balanced approach that considers budget allocation, genre selection, and directorial expertise. By carefully managing budgetary constraints, strategically choosing popular genres, and collaborating with talented directors, filmmakers can increase the likelihood of realizing a successful movie with positive box office performance. However, it's crucial to maintain a balance between creative expression and commercial viability to resonate with the target audience and achieve both artistic and financial success."
   ]
  },
  {
   "cell_type": "markdown",
   "metadata": {},
   "source": [
    "# Next Steps\n",
    "\n",
    "A data set of nearly 1500 films was used to derive these valuable insights and recommendations. However, it is important to acknowledge that having access to more data, especially concerning film budgets, could further enhance the accuracy and reliability of our recommendations. Having access to more comprehensive and accurate budget data would enable us to conduct more detailed analyses, resulting in better-informed decisions when it comes to allocating budgets and assessing risks, choosing genres, and directors.\n",
    "\n",
    "This would significantly strengthen our ability to provide more tailored and effective recommendations to maximize the chances of a film's success. Therefore, in future endeavors, obtaining access to improved data sources would be an asset, enabling us to deliver even more valuable insights and strategies for creating successful films in the dynamic and competitive film industry. Therefore, in future analyses, obtaining access to improved data sources would be an asset, enabling us to deliver even more valuable insights and strategies for creating successful films in the dynamic and competitive film industry."
   ]
  }
 ],
 "metadata": {
  "kernelspec": {
   "display_name": "learn-env",
   "language": "python",
   "name": "python3"
  },
  "language_info": {
   "codemirror_mode": {
    "name": "ipython",
    "version": 3
   },
   "file_extension": ".py",
   "mimetype": "text/x-python",
   "name": "python",
   "nbconvert_exporter": "python",
   "pygments_lexer": "ipython3",
   "version": "3.8.5"
  },
  "orig_nbformat": 4
 },
 "nbformat": 4,
 "nbformat_minor": 2
}
