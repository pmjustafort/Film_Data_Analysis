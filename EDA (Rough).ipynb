{
 "cells": [
  {
   "cell_type": "markdown",
   "metadata": {},
   "source": [
    "# Business Problem\n",
    "\n",
    "Your company now sees all the big companies creating original video content and they want to get in on the fun. They have decided to create a new movie studio, but they don’t know anything about creating movies. You are charged with exploring what types of films are currently doing the best at the box office. You must then translate those findings into actionable insights that the head of your company's new movie studio can use to help decide what type of films to create.\n",
    "\n",
    "1. Your analysis should yield three concrete business recommendations. The ultimate purpose of exploratory analysis is not just to learn about the data, but to help an organization perform better. Explicitly relate your findings to business needs by recommending actions that you think the business should take.\n",
    "\n",
    "2. Communicating about your work well is extremely important. Your ability to provide value to an organization - or to land a job there - is directly reliant on your ability to communicate with them about what you have done and why it is valuable. Create a storyline your audience (the head of the new movie studio) can follow by walking them through the steps of your process, highlighting the most important points and skipping over the rest.\n",
    "\n",
    "3. Use plenty of visualizations. Visualizations are invaluable for exploring your data and making your findings accessible to a non-technical audience. Spotlight visuals in your presentation, but only ones that relate directly to your recommendations. Simple visuals are usually best (e.g. bar charts and line graphs), and don't forget to format them well (e.g. labels, titles)."
   ]
  },
  {
   "cell_type": "code",
   "execution_count": 1,
   "metadata": {},
   "outputs": [],
   "source": [
    "import sqlite3\n",
    "import pandas as pd\n",
    "import seaborn as sns\n",
    "import matplotlib.pyplot as plt\n",
    "import numpy as np\n",
    "\n",
    "from cycler import cycler"
   ]
  },
  {
   "cell_type": "code",
   "execution_count": 2,
   "metadata": {},
   "outputs": [],
   "source": [
    "n_colors = 30\n",
    "\n",
    "sns.set_style('whitegrid')\n",
    "plt.rcParams['font.size'] = 14\n",
    "sns.set_palette('Set1')"
   ]
  },
  {
   "cell_type": "code",
   "execution_count": 3,
   "metadata": {},
   "outputs": [
    {
     "ename": "OperationalError",
     "evalue": "unable to open database file",
     "output_type": "error",
     "traceback": [
      "\u001b[1;31m---------------------------------------------------------------------------\u001b[0m",
      "\u001b[1;31mOperationalError\u001b[0m                          Traceback (most recent call last)",
      "\u001b[1;32m<ipython-input-3-aa25295ed0ec>\u001b[0m in \u001b[0;36m<module>\u001b[1;34m\u001b[0m\n\u001b[1;32m----> 1\u001b[1;33m \u001b[0mconn\u001b[0m \u001b[1;33m=\u001b[0m \u001b[0msqlite3\u001b[0m\u001b[1;33m.\u001b[0m\u001b[0mconnect\u001b[0m\u001b[1;33m(\u001b[0m\u001b[1;34m'zippedData/im.db'\u001b[0m\u001b[1;33m)\u001b[0m\u001b[1;33m\u001b[0m\u001b[1;33m\u001b[0m\u001b[0m\n\u001b[0m\u001b[0;32m      2\u001b[0m \u001b[0mcur\u001b[0m \u001b[1;33m=\u001b[0m \u001b[0mconn\u001b[0m\u001b[1;33m.\u001b[0m\u001b[0mcursor\u001b[0m\u001b[1;33m(\u001b[0m\u001b[1;33m)\u001b[0m\u001b[1;33m\u001b[0m\u001b[1;33m\u001b[0m\u001b[0m\n\u001b[0;32m      3\u001b[0m \u001b[0mcur\u001b[0m\u001b[1;33m.\u001b[0m\u001b[0mexecute\u001b[0m\u001b[1;33m(\u001b[0m\u001b[1;34m\"SELECT name FROM sqlite_master WHERE type='table';\"\u001b[0m\u001b[1;33m)\u001b[0m\u001b[1;33m\u001b[0m\u001b[1;33m\u001b[0m\u001b[0m\n\u001b[0;32m      4\u001b[0m \u001b[0mtable_names\u001b[0m \u001b[1;33m=\u001b[0m \u001b[0mcur\u001b[0m\u001b[1;33m.\u001b[0m\u001b[0mfetchall\u001b[0m\u001b[1;33m(\u001b[0m\u001b[1;33m)\u001b[0m\u001b[1;33m\u001b[0m\u001b[1;33m\u001b[0m\u001b[0m\n\u001b[0;32m      5\u001b[0m \u001b[1;33m\u001b[0m\u001b[0m\n",
      "\u001b[1;31mOperationalError\u001b[0m: unable to open database file"
     ]
    }
   ],
   "source": [
    "conn = sqlite3.connect('zippedData/im.db')\n",
    "cur = conn.cursor()\n",
    "cur.execute(\"SELECT name FROM sqlite_master WHERE type='table';\")\n",
    "table_names = cur.fetchall()\n",
    "\n",
    "imdb = {}\n",
    "\n",
    "for table in table_names:\n",
    "    table_name = table[0]\n",
    "    imdb[table_name] = pd.read_sql_query(f\"SELECT * FROM {table_name}\", conn)"
   ]
  },
  {
   "cell_type": "code",
   "execution_count": null,
   "metadata": {},
   "outputs": [],
   "source": [
    "rt_reviews_df = pd.read_csv('zippedData/rt.reviews.tsv.gz', sep='\\t', encoding='ISO-8859-1')\n",
    "rt_movie_info_df = pd.read_csv('zippedData/rt.movie_info.tsv.gz', sep='\\t')"
   ]
  },
  {
   "cell_type": "markdown",
   "metadata": {},
   "source": [
    "# Table Cleaning"
   ]
  },
  {
   "cell_type": "code",
   "execution_count": null,
   "metadata": {},
   "outputs": [
    {
     "data": {
      "text/plain": [
       "\"movie_basics: ['movie_id', 'primary_title', 'original_title', 'start_year', 'runtime_minutes', 'genres']\""
      ]
     },
     "metadata": {},
     "output_type": "display_data"
    },
    {
     "data": {
      "text/plain": [
       "\"directors: ['movie_id', 'person_id']\""
      ]
     },
     "metadata": {},
     "output_type": "display_data"
    },
    {
     "data": {
      "text/plain": [
       "\"known_for: ['person_id', 'movie_id']\""
      ]
     },
     "metadata": {},
     "output_type": "display_data"
    },
    {
     "data": {
      "text/plain": [
       "\"movie_akas: ['movie_id', 'ordering', 'title', 'region', 'language', 'types', 'attributes', 'is_original_title']\""
      ]
     },
     "metadata": {},
     "output_type": "display_data"
    },
    {
     "data": {
      "text/plain": [
       "\"movie_ratings: ['movie_id', 'averagerating', 'numvotes']\""
      ]
     },
     "metadata": {},
     "output_type": "display_data"
    },
    {
     "data": {
      "text/plain": [
       "\"persons: ['person_id', 'primary_name', 'birth_year', 'death_year', 'primary_profession']\""
      ]
     },
     "metadata": {},
     "output_type": "display_data"
    },
    {
     "data": {
      "text/plain": [
       "\"principals: ['movie_id', 'ordering', 'person_id', 'category', 'job', 'characters']\""
      ]
     },
     "metadata": {},
     "output_type": "display_data"
    },
    {
     "data": {
      "text/plain": [
       "\"writers: ['movie_id', 'person_id']\""
      ]
     },
     "metadata": {},
     "output_type": "display_data"
    }
   ],
   "source": [
    "for name, df in imdb.items():\n",
    "    display(f'{name}: {df.columns.to_list()}')"
   ]
  },
  {
   "cell_type": "code",
   "execution_count": null,
   "metadata": {},
   "outputs": [
    {
     "data": {
      "text/html": [
       "<div>\n",
       "<style scoped>\n",
       "    .dataframe tbody tr th:only-of-type {\n",
       "        vertical-align: middle;\n",
       "    }\n",
       "\n",
       "    .dataframe tbody tr th {\n",
       "        vertical-align: top;\n",
       "    }\n",
       "\n",
       "    .dataframe thead th {\n",
       "        text-align: right;\n",
       "    }\n",
       "</style>\n",
       "<table border=\"1\" class=\"dataframe\">\n",
       "  <thead>\n",
       "    <tr style=\"text-align: right;\">\n",
       "      <th></th>\n",
       "      <th>movie_id</th>\n",
       "      <th>directors</th>\n",
       "    </tr>\n",
       "  </thead>\n",
       "  <tbody>\n",
       "    <tr>\n",
       "      <th>0</th>\n",
       "      <td>tt0285252</td>\n",
       "      <td>Tony Vitale</td>\n",
       "    </tr>\n",
       "    <tr>\n",
       "      <th>1</th>\n",
       "      <td>tt0462036</td>\n",
       "      <td>Bill Haley</td>\n",
       "    </tr>\n",
       "    <tr>\n",
       "      <th>2</th>\n",
       "      <td>tt0835418</td>\n",
       "      <td>Jay Chandrasekhar</td>\n",
       "    </tr>\n",
       "  </tbody>\n",
       "</table>\n",
       "</div>"
      ],
      "text/plain": [
       "    movie_id          directors\n",
       "0  tt0285252        Tony Vitale\n",
       "1  tt0462036         Bill Haley\n",
       "2  tt0835418  Jay Chandrasekhar"
      ]
     },
     "execution_count": 6,
     "metadata": {},
     "output_type": "execute_result"
    }
   ],
   "source": [
    "directors_with_names = pd.merge(imdb['directors'], imdb['persons'], on='person_id', how='inner').rename(columns={'primary_name': 'directors'})\n",
    "directors_with_names = directors_with_names[['movie_id', 'directors']]\n",
    "directors_with_names.head(3)"
   ]
  },
  {
   "cell_type": "code",
   "execution_count": null,
   "metadata": {},
   "outputs": [
    {
     "data": {
      "text/html": [
       "<div>\n",
       "<style scoped>\n",
       "    .dataframe tbody tr th:only-of-type {\n",
       "        vertical-align: middle;\n",
       "    }\n",
       "\n",
       "    .dataframe tbody tr th {\n",
       "        vertical-align: top;\n",
       "    }\n",
       "\n",
       "    .dataframe thead th {\n",
       "        text-align: right;\n",
       "    }\n",
       "</style>\n",
       "<table border=\"1\" class=\"dataframe\">\n",
       "  <thead>\n",
       "    <tr style=\"text-align: right;\">\n",
       "      <th></th>\n",
       "      <th>title</th>\n",
       "      <th>production_budget</th>\n",
       "      <th>domestic_gross</th>\n",
       "      <th>foreign_gross</th>\n",
       "      <th>profit</th>\n",
       "    </tr>\n",
       "  </thead>\n",
       "  <tbody>\n",
       "    <tr>\n",
       "      <th>0</th>\n",
       "      <td>Avatar</td>\n",
       "      <td>425000000.0</td>\n",
       "      <td>760507625.0</td>\n",
       "      <td>2.015838e+09</td>\n",
       "      <td>2.351345e+09</td>\n",
       "    </tr>\n",
       "    <tr>\n",
       "      <th>1</th>\n",
       "      <td>Pirates of the Caribbean: On Stranger Tides</td>\n",
       "      <td>410600000.0</td>\n",
       "      <td>241063875.0</td>\n",
       "      <td>8.046000e+08</td>\n",
       "      <td>6.350639e+08</td>\n",
       "    </tr>\n",
       "    <tr>\n",
       "      <th>2</th>\n",
       "      <td>Dark Phoenix</td>\n",
       "      <td>350000000.0</td>\n",
       "      <td>42762350.0</td>\n",
       "      <td>1.070000e+08</td>\n",
       "      <td>-2.002376e+08</td>\n",
       "    </tr>\n",
       "  </tbody>\n",
       "</table>\n",
       "</div>"
      ],
      "text/plain": [
       "                                         title  production_budget  \\\n",
       "0                                       Avatar        425000000.0   \n",
       "1  Pirates of the Caribbean: On Stranger Tides        410600000.0   \n",
       "2                                 Dark Phoenix        350000000.0   \n",
       "\n",
       "   domestic_gross  foreign_gross        profit  \n",
       "0     760507625.0   2.015838e+09  2.351345e+09  \n",
       "1     241063875.0   8.046000e+08  6.350639e+08  \n",
       "2      42762350.0   1.070000e+08 -2.002376e+08  "
      ]
     },
     "execution_count": 7,
     "metadata": {},
     "output_type": "execute_result"
    }
   ],
   "source": [
    "movie_budgets_df = pd.read_csv('zippedData/tn.movie_budgets.csv.gz')\n",
    "\n",
    "def format_numbers(number):\n",
    "    number = str(number).strip()\n",
    "    number = str(number).replace('$', '').replace(',', '')\n",
    "    return float(number)\n",
    "\n",
    "for col in ['production_budget', 'domestic_gross', 'worldwide_gross']:\n",
    "    movie_budgets_df[col] = movie_budgets_df[col].apply(format_numbers)\n",
    "\n",
    "movie_budgets_df['foreign_gross'] = movie_budgets_df['worldwide_gross'] - movie_budgets_df['domestic_gross']\n",
    "movie_budgets_df['profit'] = (movie_budgets_df['domestic_gross'] + movie_budgets_df['foreign_gross']) - movie_budgets_df['production_budget']\n",
    "movie_budgets_df = movie_budgets_df.drop(columns=['worldwide_gross'])\n",
    "movie_budgets_df = movie_budgets_df.rename(columns={'movie': 'title'})\n",
    "movie_budgets_df = movie_budgets_df.drop_duplicates(subset=['title'])\n",
    "movie_budgets_df = movie_budgets_df.reset_index().drop(columns=['index', 'id', 'release_date'])\n",
    "movie_budgets_df.head(3)"
   ]
  },
  {
   "cell_type": "code",
   "execution_count": null,
   "metadata": {},
   "outputs": [
    {
     "data": {
      "text/html": [
       "<div>\n",
       "<style scoped>\n",
       "    .dataframe tbody tr th:only-of-type {\n",
       "        vertical-align: middle;\n",
       "    }\n",
       "\n",
       "    .dataframe tbody tr th {\n",
       "        vertical-align: top;\n",
       "    }\n",
       "\n",
       "    .dataframe thead th {\n",
       "        text-align: right;\n",
       "    }\n",
       "</style>\n",
       "<table border=\"1\" class=\"dataframe\">\n",
       "  <thead>\n",
       "    <tr style=\"text-align: right;\">\n",
       "      <th></th>\n",
       "      <th>movie_id</th>\n",
       "      <th>averagerating</th>\n",
       "      <th>numvotes</th>\n",
       "      <th>ordering</th>\n",
       "      <th>title</th>\n",
       "      <th>region</th>\n",
       "      <th>start_year</th>\n",
       "      <th>runtime_minutes</th>\n",
       "      <th>genres</th>\n",
       "      <th>directors</th>\n",
       "    </tr>\n",
       "  </thead>\n",
       "  <tbody>\n",
       "    <tr>\n",
       "      <th>0</th>\n",
       "      <td>tt1042974</td>\n",
       "      <td>6.4</td>\n",
       "      <td>20</td>\n",
       "      <td>2</td>\n",
       "      <td>Just Inès</td>\n",
       "      <td>RS</td>\n",
       "      <td>2010</td>\n",
       "      <td>90.0</td>\n",
       "      <td>Drama</td>\n",
       "      <td>Marcel Grant</td>\n",
       "    </tr>\n",
       "    <tr>\n",
       "      <th>1</th>\n",
       "      <td>tt1042974</td>\n",
       "      <td>6.4</td>\n",
       "      <td>20</td>\n",
       "      <td>3</td>\n",
       "      <td>Just Inès</td>\n",
       "      <td>GB</td>\n",
       "      <td>2010</td>\n",
       "      <td>90.0</td>\n",
       "      <td>Drama</td>\n",
       "      <td>Marcel Grant</td>\n",
       "    </tr>\n",
       "    <tr>\n",
       "      <th>2</th>\n",
       "      <td>tt1043726</td>\n",
       "      <td>4.2</td>\n",
       "      <td>50352</td>\n",
       "      <td>11</td>\n",
       "      <td>The Legend of Hercules</td>\n",
       "      <td>PT</td>\n",
       "      <td>2014</td>\n",
       "      <td>99.0</td>\n",
       "      <td>Action,Adventure,Fantasy</td>\n",
       "      <td>Renny Harlin</td>\n",
       "    </tr>\n",
       "  </tbody>\n",
       "</table>\n",
       "</div>"
      ],
      "text/plain": [
       "    movie_id  averagerating  numvotes  ordering                   title  \\\n",
       "0  tt1042974            6.4        20         2               Just Inès   \n",
       "1  tt1042974            6.4        20         3               Just Inès   \n",
       "2  tt1043726            4.2     50352        11  The Legend of Hercules   \n",
       "\n",
       "  region  start_year  runtime_minutes                    genres     directors  \n",
       "0     RS        2010             90.0                     Drama  Marcel Grant  \n",
       "1     GB        2010             90.0                     Drama  Marcel Grant  \n",
       "2     PT        2014             99.0  Action,Adventure,Fantasy  Renny Harlin  "
      ]
     },
     "execution_count": 8,
     "metadata": {},
     "output_type": "execute_result"
    }
   ],
   "source": [
    "def select_title(row):\n",
    "    if row['is_original_title'] == 1.0:\n",
    "        return row['original_title']\n",
    "    else:\n",
    "        return row['primary_title']\n",
    "\n",
    "imdb_df = pd.merge(imdb['movie_akas'], imdb['movie_basics'], how='inner')\n",
    "imdb_df['title'] = imdb_df.apply(select_title, axis=1)\n",
    "imdb_df = imdb_df.drop(columns=['primary_title', 'original_title', 'is_original_title'])\n",
    "\n",
    "imdb_df = pd.merge(imdb['movie_ratings'], imdb_df, how='inner')\n",
    "imdb_df = imdb_df.drop(columns=['language', 'types', 'attributes'])\n",
    "imdb_df = imdb_df.dropna(subset=['region', 'runtime_minutes', 'genres'])\n",
    "imdb_df = pd.merge(imdb_df, directors_with_names, on='movie_id', how='inner')\n",
    "imdb_df.head(3)"
   ]
  },
  {
   "cell_type": "code",
   "execution_count": null,
   "metadata": {},
   "outputs": [
    {
     "data": {
      "text/html": [
       "<div>\n",
       "<style scoped>\n",
       "    .dataframe tbody tr th:only-of-type {\n",
       "        vertical-align: middle;\n",
       "    }\n",
       "\n",
       "    .dataframe tbody tr th {\n",
       "        vertical-align: top;\n",
       "    }\n",
       "\n",
       "    .dataframe thead th {\n",
       "        text-align: right;\n",
       "    }\n",
       "</style>\n",
       "<table border=\"1\" class=\"dataframe\">\n",
       "  <thead>\n",
       "    <tr style=\"text-align: right;\">\n",
       "      <th></th>\n",
       "      <th>movie_id</th>\n",
       "      <th>directors_x</th>\n",
       "      <th>averagerating</th>\n",
       "      <th>numvotes</th>\n",
       "      <th>ordering</th>\n",
       "      <th>title</th>\n",
       "      <th>region</th>\n",
       "      <th>year</th>\n",
       "      <th>runtime_minutes</th>\n",
       "      <th>genres</th>\n",
       "      <th>directors_y</th>\n",
       "      <th>production_budget</th>\n",
       "      <th>domestic_gross</th>\n",
       "      <th>foreign_gross</th>\n",
       "      <th>profit</th>\n",
       "    </tr>\n",
       "  </thead>\n",
       "  <tbody>\n",
       "    <tr>\n",
       "      <th>0</th>\n",
       "      <td>tt0249516</td>\n",
       "      <td>[Lawrence Kasanoff, Lawrence Kasanoff, Lawrenc...</td>\n",
       "      <td>1.9</td>\n",
       "      <td>8248</td>\n",
       "      <td>10</td>\n",
       "      <td>Foodfight!</td>\n",
       "      <td>FI</td>\n",
       "      <td>2012</td>\n",
       "      <td>91.0</td>\n",
       "      <td>[Action, Animation, Comedy]</td>\n",
       "      <td>Lawrence Kasanoff</td>\n",
       "      <td>45000000.0</td>\n",
       "      <td>0.0</td>\n",
       "      <td>73706.0</td>\n",
       "      <td>-44926294.0</td>\n",
       "    </tr>\n",
       "    <tr>\n",
       "      <th>1</th>\n",
       "      <td>tt0249516</td>\n",
       "      <td>[Lawrence Kasanoff, Lawrence Kasanoff, Lawrenc...</td>\n",
       "      <td>1.9</td>\n",
       "      <td>8248</td>\n",
       "      <td>10</td>\n",
       "      <td>Foodfight!</td>\n",
       "      <td>FI</td>\n",
       "      <td>2012</td>\n",
       "      <td>91.0</td>\n",
       "      <td>[Action, Animation, Comedy]</td>\n",
       "      <td>Lawrence Kasanoff</td>\n",
       "      <td>45000000.0</td>\n",
       "      <td>0.0</td>\n",
       "      <td>73706.0</td>\n",
       "      <td>-44926294.0</td>\n",
       "    </tr>\n",
       "    <tr>\n",
       "      <th>2</th>\n",
       "      <td>tt0249516</td>\n",
       "      <td>[Lawrence Kasanoff, Lawrence Kasanoff, Lawrenc...</td>\n",
       "      <td>1.9</td>\n",
       "      <td>8248</td>\n",
       "      <td>10</td>\n",
       "      <td>Foodfight!</td>\n",
       "      <td>FI</td>\n",
       "      <td>2012</td>\n",
       "      <td>91.0</td>\n",
       "      <td>[Action, Animation, Comedy]</td>\n",
       "      <td>Lawrence Kasanoff</td>\n",
       "      <td>45000000.0</td>\n",
       "      <td>0.0</td>\n",
       "      <td>73706.0</td>\n",
       "      <td>-44926294.0</td>\n",
       "    </tr>\n",
       "  </tbody>\n",
       "</table>\n",
       "</div>"
      ],
      "text/plain": [
       "    movie_id                                        directors_x  \\\n",
       "0  tt0249516  [Lawrence Kasanoff, Lawrence Kasanoff, Lawrenc...   \n",
       "1  tt0249516  [Lawrence Kasanoff, Lawrence Kasanoff, Lawrenc...   \n",
       "2  tt0249516  [Lawrence Kasanoff, Lawrence Kasanoff, Lawrenc...   \n",
       "\n",
       "   averagerating  numvotes  ordering       title region  year  \\\n",
       "0            1.9      8248        10  Foodfight!     FI  2012   \n",
       "1            1.9      8248        10  Foodfight!     FI  2012   \n",
       "2            1.9      8248        10  Foodfight!     FI  2012   \n",
       "\n",
       "   runtime_minutes                       genres        directors_y  \\\n",
       "0             91.0  [Action, Animation, Comedy]  Lawrence Kasanoff   \n",
       "1             91.0  [Action, Animation, Comedy]  Lawrence Kasanoff   \n",
       "2             91.0  [Action, Animation, Comedy]  Lawrence Kasanoff   \n",
       "\n",
       "   production_budget  domestic_gross  foreign_gross      profit  \n",
       "0         45000000.0             0.0        73706.0 -44926294.0  \n",
       "1         45000000.0             0.0        73706.0 -44926294.0  \n",
       "2         45000000.0             0.0        73706.0 -44926294.0  "
      ]
     },
     "execution_count": 9,
     "metadata": {},
     "output_type": "execute_result"
    }
   ],
   "source": [
    "merged_df = pd.merge(imdb_df, movie_budgets_df, on='title', how='inner')\n",
    "merged_df['genres'] = merged_df['genres'].apply(lambda x: x.split(','))\n",
    "merged_df = merged_df.rename(columns={'start_year': 'year'})\n",
    "merged_df = pd.merge(merged_df.groupby('movie_id')['directors'].apply(list).reset_index(), merged_df, on='movie_id', how='left')\n",
    "merged_df.head(3)"
   ]
  },
  {
   "cell_type": "code",
   "execution_count": null,
   "metadata": {},
   "outputs": [
    {
     "data": {
      "text/html": [
       "<div>\n",
       "<style scoped>\n",
       "    .dataframe tbody tr th:only-of-type {\n",
       "        vertical-align: middle;\n",
       "    }\n",
       "\n",
       "    .dataframe tbody tr th {\n",
       "        vertical-align: top;\n",
       "    }\n",
       "\n",
       "    .dataframe thead th {\n",
       "        text-align: right;\n",
       "    }\n",
       "</style>\n",
       "<table border=\"1\" class=\"dataframe\">\n",
       "  <thead>\n",
       "    <tr style=\"text-align: right;\">\n",
       "      <th></th>\n",
       "      <th>movie_id</th>\n",
       "      <th>directors</th>\n",
       "      <th>averagerating</th>\n",
       "      <th>numvotes</th>\n",
       "      <th>title</th>\n",
       "      <th>region</th>\n",
       "      <th>year</th>\n",
       "      <th>runtime_minutes</th>\n",
       "      <th>genres</th>\n",
       "      <th>production_budget</th>\n",
       "      <th>domestic_gross</th>\n",
       "      <th>foreign_gross</th>\n",
       "      <th>profit</th>\n",
       "      <th>roi</th>\n",
       "    </tr>\n",
       "  </thead>\n",
       "  <tbody>\n",
       "    <tr>\n",
       "      <th>0</th>\n",
       "      <td>tt1695994</td>\n",
       "      <td>Huck Botko</td>\n",
       "      <td>4.6</td>\n",
       "      <td>3696</td>\n",
       "      <td>The Virginity Hit</td>\n",
       "      <td>HU</td>\n",
       "      <td>2010</td>\n",
       "      <td>86.0</td>\n",
       "      <td>[Comedy]</td>\n",
       "      <td>2000000.0</td>\n",
       "      <td>636706.0</td>\n",
       "      <td>0.0</td>\n",
       "      <td>-1363294.0</td>\n",
       "      <td>-0.681647</td>\n",
       "    </tr>\n",
       "    <tr>\n",
       "      <th>1</th>\n",
       "      <td>tt1289419</td>\n",
       "      <td>David M. Matthews</td>\n",
       "      <td>3.6</td>\n",
       "      <td>587</td>\n",
       "      <td>N-Secure</td>\n",
       "      <td>US</td>\n",
       "      <td>2010</td>\n",
       "      <td>105.0</td>\n",
       "      <td>[Crime, Drama, Thriller]</td>\n",
       "      <td>1600000.0</td>\n",
       "      <td>2595644.0</td>\n",
       "      <td>0.0</td>\n",
       "      <td>995644.0</td>\n",
       "      <td>0.622278</td>\n",
       "    </tr>\n",
       "    <tr>\n",
       "      <th>2</th>\n",
       "      <td>tt1120985</td>\n",
       "      <td>Derek Cianfrance</td>\n",
       "      <td>7.4</td>\n",
       "      <td>170089</td>\n",
       "      <td>Blue Valentine</td>\n",
       "      <td>HR</td>\n",
       "      <td>2010</td>\n",
       "      <td>112.0</td>\n",
       "      <td>[Drama, Romance]</td>\n",
       "      <td>1000000.0</td>\n",
       "      <td>9737892.0</td>\n",
       "      <td>6828348.0</td>\n",
       "      <td>15566240.0</td>\n",
       "      <td>15.566240</td>\n",
       "    </tr>\n",
       "    <tr>\n",
       "      <th>3</th>\n",
       "      <td>tt1116184</td>\n",
       "      <td>Jeff Tremaine</td>\n",
       "      <td>7.0</td>\n",
       "      <td>53289</td>\n",
       "      <td>Jackass 3D</td>\n",
       "      <td>US</td>\n",
       "      <td>2010</td>\n",
       "      <td>95.0</td>\n",
       "      <td>[Action, Comedy, Documentary]</td>\n",
       "      <td>20000000.0</td>\n",
       "      <td>117229692.0</td>\n",
       "      <td>54456101.0</td>\n",
       "      <td>151685793.0</td>\n",
       "      <td>7.584290</td>\n",
       "    </tr>\n",
       "    <tr>\n",
       "      <th>4</th>\n",
       "      <td>tt1111235</td>\n",
       "      <td>Hans Rodionoff</td>\n",
       "      <td>4.6</td>\n",
       "      <td>77</td>\n",
       "      <td>Trance</td>\n",
       "      <td>US</td>\n",
       "      <td>2010</td>\n",
       "      <td>83.0</td>\n",
       "      <td>[Horror]</td>\n",
       "      <td>16000000.0</td>\n",
       "      <td>2322593.0</td>\n",
       "      <td>20271459.0</td>\n",
       "      <td>6594052.0</td>\n",
       "      <td>0.412128</td>\n",
       "    </tr>\n",
       "  </tbody>\n",
       "</table>\n",
       "</div>"
      ],
      "text/plain": [
       "    movie_id          directors  averagerating  numvotes              title  \\\n",
       "0  tt1695994         Huck Botko            4.6      3696  The Virginity Hit   \n",
       "1  tt1289419  David M. Matthews            3.6       587           N-Secure   \n",
       "2  tt1120985   Derek Cianfrance            7.4    170089     Blue Valentine   \n",
       "3  tt1116184      Jeff Tremaine            7.0     53289         Jackass 3D   \n",
       "4  tt1111235     Hans Rodionoff            4.6        77             Trance   \n",
       "\n",
       "  region  year  runtime_minutes                         genres  \\\n",
       "0     HU  2010             86.0                       [Comedy]   \n",
       "1     US  2010            105.0       [Crime, Drama, Thriller]   \n",
       "2     HR  2010            112.0               [Drama, Romance]   \n",
       "3     US  2010             95.0  [Action, Comedy, Documentary]   \n",
       "4     US  2010             83.0                       [Horror]   \n",
       "\n",
       "   production_budget  domestic_gross  foreign_gross       profit        roi  \n",
       "0          2000000.0        636706.0            0.0   -1363294.0  -0.681647  \n",
       "1          1600000.0       2595644.0            0.0     995644.0   0.622278  \n",
       "2          1000000.0       9737892.0      6828348.0   15566240.0  15.566240  \n",
       "3         20000000.0     117229692.0     54456101.0  151685793.0   7.584290  \n",
       "4         16000000.0       2322593.0     20271459.0    6594052.0   0.412128  "
      ]
     },
     "execution_count": 10,
     "metadata": {},
     "output_type": "execute_result"
    }
   ],
   "source": [
    "unique_directors_df = merged_df.drop(columns='directors_y').rename(columns={'directors_x': 'directors'})\n",
    "unique_directors_df = unique_directors_df.drop_duplicates(subset=['movie_id'])\n",
    "unique_directors_df = unique_directors_df.drop_duplicates(subset=['title'])\n",
    "unique_directors_df = unique_directors_df.reset_index().drop(columns='index')\n",
    "unique_directors_df = unique_directors_df.drop(columns='ordering')\n",
    "unique_directors_df = unique_directors_df.explode('directors')\n",
    "unique_directors_df = unique_directors_df.loc[~((unique_directors_df['domestic_gross'] == 0) & (unique_directors_df['foreign_gross'] == 0))]\n",
    "unique_directors_df['roi'] = unique_directors_df['profit'] / unique_directors_df['production_budget']\n",
    "unique_directors_df = unique_directors_df.drop_duplicates(subset=['movie_id', 'directors'])\n",
    "unique_directors_df = unique_directors_df.sort_values(by='year').reset_index().drop(columns='index')\n",
    "unique_directors_df.head()"
   ]
  },
  {
   "cell_type": "code",
   "execution_count": null,
   "metadata": {},
   "outputs": [
    {
     "data": {
      "text/plain": [
       "2089"
      ]
     },
     "execution_count": 11,
     "metadata": {},
     "output_type": "execute_result"
    }
   ],
   "source": [
    "len(unique_directors_df)"
   ]
  },
  {
   "cell_type": "markdown",
   "metadata": {},
   "source": [
    "## Director Analysis"
   ]
  },
  {
   "cell_type": "markdown",
   "metadata": {},
   "source": [
    "### By Mean Profit"
   ]
  },
  {
   "cell_type": "code",
   "execution_count": null,
   "metadata": {},
   "outputs": [],
   "source": [
    "def top_bottom_analysis(df, groupby, method, column, n=5):\n",
    "    if method == 'mean':\n",
    "        metric = df.groupby(groupby).mean()[column].reset_index()\n",
    "    elif method == 'sum':\n",
    "        metric = df.groupby(groupby).mean()[column].reset_index()\n",
    "    metric = metric.sort_values(by=column, ascending=False)\n",
    "    top = metric[:n].set_index(groupby).squeeze()\n",
    "    bottom = metric.iloc[::-1][:n].set_index(groupby).squeeze()\n",
    "    return top, bottom"
   ]
  },
  {
   "cell_type": "code",
   "execution_count": null,
   "metadata": {},
   "outputs": [],
   "source": [
    "n=5\n",
    "g = 'directors'\n",
    "m = 'mean'\n",
    "c = 'profit'\n",
    "\n",
    "top_directors_by_mean_profit ,\\\n",
    "bottom_directors_by_mean_profit = top_bottom_analysis(unique_directors_df, g, m, c, n)"
   ]
  },
  {
   "cell_type": "code",
   "execution_count": null,
   "metadata": {},
   "outputs": [
    {
     "data": {
      "image/png": "[encoded data removed]",
      "text/plain": [
       "<Figure size 720x288 with 1 Axes>"
      ]
     },
     "metadata": {},
     "output_type": "display_data"
    }
   ],
   "source": [
    "top_directors_by_mean_profit.iloc[::-1].plot.barh(figsize=(10, 4), color='#38AF18')\n",
    "plt.title(f'Top {n} {g.title()} by Mean Profit')\n",
    "plt.xlabel('Profit ($)')\n",
    "plt.ylabel('Director')\n",
    "plt.xticks(rotation=30)\n",
    "plt.show()"
   ]
  },
  {
   "cell_type": "code",
   "execution_count": null,
   "metadata": {},
   "outputs": [
    {
     "data": {
      "image/png": "[encoded data removed]",
      "text/plain": [
       "<Figure size 720x288 with 1 Axes>"
      ]
     },
     "metadata": {},
     "output_type": "display_data"
    }
   ],
   "source": [
    "bottom_directors_by_mean_profit.iloc[::-1].plot.barh(figsize=(10, 4), color='#921FA4')\n",
    "plt.title(f'Bottom {n} {g.title()} by Mean Profit')\n",
    "plt.xlabel('Profit ($)')\n",
    "plt.ylabel('Director')\n",
    "plt.xticks(rotation=30)\n",
    "plt.show()"
   ]
  },
  {
   "cell_type": "markdown",
   "metadata": {},
   "source": [
    "### By Total Number of Votes"
   ]
  },
  {
   "cell_type": "code",
   "execution_count": null,
   "metadata": {},
   "outputs": [],
   "source": [
    "c2 = 'numvotes'\n",
    "\n",
    "top_directors_by_mean_votes,\\\n",
    "bottom_directors_by_mean_votes = top_bottom_analysis(unique_directors_df, g, m, c2, n)"
   ]
  },
  {
   "cell_type": "code",
   "execution_count": null,
   "metadata": {},
   "outputs": [
    {
     "data": {
      "image/png": "[encoded data removed]",
      "text/plain": [
       "<Figure size 720x288 with 1 Axes>"
      ]
     },
     "metadata": {},
     "output_type": "display_data"
    }
   ],
   "source": [
    "top_directors_by_mean_votes.iloc[::-1].plot.barh(figsize=(10, 4), color='#38AF18')\n",
    "plt.title(f'Top {n} {g.title()} by Mean Number of Votes')\n",
    "plt.xlabel('Number of Votes')\n",
    "plt.ylabel('Director')\n",
    "plt.xticks(rotation=30)\n",
    "plt.show()"
   ]
  },
  {
   "cell_type": "code",
   "execution_count": null,
   "metadata": {},
   "outputs": [
    {
     "data": {
      "image/png": "[encoded data removed]",
      "text/plain": [
       "<Figure size 720x288 with 1 Axes>"
      ]
     },
     "metadata": {},
     "output_type": "display_data"
    }
   ],
   "source": [
    "bottom_directors_by_mean_votes.iloc[::-1].plot.barh(figsize=(10, 4), color='#921FA4')\n",
    "plt.title(f'Bottom {n} {g.title()} by Mean Number of Votes')\n",
    "plt.xlabel('Number of Votes')\n",
    "plt.ylabel('Director')\n",
    "plt.xticks(rotation=30)\n",
    "plt.show()"
   ]
  },
  {
   "cell_type": "markdown",
   "metadata": {},
   "source": [
    "## Genre Analysis"
   ]
  },
  {
   "cell_type": "code",
   "execution_count": null,
   "metadata": {},
   "outputs": [
    {
     "data": {
      "text/html": [
       "<div>\n",
       "<style scoped>\n",
       "    .dataframe tbody tr th:only-of-type {\n",
       "        vertical-align: middle;\n",
       "    }\n",
       "\n",
       "    .dataframe tbody tr th {\n",
       "        vertical-align: top;\n",
       "    }\n",
       "\n",
       "    .dataframe thead th {\n",
       "        text-align: right;\n",
       "    }\n",
       "</style>\n",
       "<table border=\"1\" class=\"dataframe\">\n",
       "  <thead>\n",
       "    <tr style=\"text-align: right;\">\n",
       "      <th></th>\n",
       "      <th>movie_id</th>\n",
       "      <th>directors</th>\n",
       "      <th>averagerating</th>\n",
       "      <th>numvotes</th>\n",
       "      <th>title</th>\n",
       "      <th>region</th>\n",
       "      <th>year</th>\n",
       "      <th>runtime_minutes</th>\n",
       "      <th>genres</th>\n",
       "      <th>production_budget</th>\n",
       "      <th>domestic_gross</th>\n",
       "      <th>foreign_gross</th>\n",
       "      <th>profit</th>\n",
       "      <th>roi</th>\n",
       "    </tr>\n",
       "  </thead>\n",
       "  <tbody>\n",
       "    <tr>\n",
       "      <th>0</th>\n",
       "      <td>tt1695994</td>\n",
       "      <td>Huck Botko</td>\n",
       "      <td>4.6</td>\n",
       "      <td>3696</td>\n",
       "      <td>The Virginity Hit</td>\n",
       "      <td>HU</td>\n",
       "      <td>2010</td>\n",
       "      <td>86.0</td>\n",
       "      <td>Comedy</td>\n",
       "      <td>2000000.0</td>\n",
       "      <td>636706.0</td>\n",
       "      <td>0.0</td>\n",
       "      <td>-1363294.0</td>\n",
       "      <td>-0.681647</td>\n",
       "    </tr>\n",
       "    <tr>\n",
       "      <th>1</th>\n",
       "      <td>tt1289419</td>\n",
       "      <td>David M. Matthews</td>\n",
       "      <td>3.6</td>\n",
       "      <td>587</td>\n",
       "      <td>N-Secure</td>\n",
       "      <td>US</td>\n",
       "      <td>2010</td>\n",
       "      <td>105.0</td>\n",
       "      <td>Crime</td>\n",
       "      <td>1600000.0</td>\n",
       "      <td>2595644.0</td>\n",
       "      <td>0.0</td>\n",
       "      <td>995644.0</td>\n",
       "      <td>0.622278</td>\n",
       "    </tr>\n",
       "    <tr>\n",
       "      <th>1</th>\n",
       "      <td>tt1289419</td>\n",
       "      <td>David M. Matthews</td>\n",
       "      <td>3.6</td>\n",
       "      <td>587</td>\n",
       "      <td>N-Secure</td>\n",
       "      <td>US</td>\n",
       "      <td>2010</td>\n",
       "      <td>105.0</td>\n",
       "      <td>Drama</td>\n",
       "      <td>1600000.0</td>\n",
       "      <td>2595644.0</td>\n",
       "      <td>0.0</td>\n",
       "      <td>995644.0</td>\n",
       "      <td>0.622278</td>\n",
       "    </tr>\n",
       "  </tbody>\n",
       "</table>\n",
       "</div>"
      ],
      "text/plain": [
       "    movie_id          directors  averagerating  numvotes              title  \\\n",
       "0  tt1695994         Huck Botko            4.6      3696  The Virginity Hit   \n",
       "1  tt1289419  David M. Matthews            3.6       587           N-Secure   \n",
       "1  tt1289419  David M. Matthews            3.6       587           N-Secure   \n",
       "\n",
       "  region  year  runtime_minutes  genres  production_budget  domestic_gross  \\\n",
       "0     HU  2010             86.0  Comedy          2000000.0        636706.0   \n",
       "1     US  2010            105.0   Crime          1600000.0       2595644.0   \n",
       "1     US  2010            105.0   Drama          1600000.0       2595644.0   \n",
       "\n",
       "   foreign_gross     profit       roi  \n",
       "0            0.0 -1363294.0 -0.681647  \n",
       "1            0.0   995644.0  0.622278  \n",
       "1            0.0   995644.0  0.622278  "
      ]
     },
     "execution_count": 19,
     "metadata": {},
     "output_type": "execute_result"
    }
   ],
   "source": [
    "unique_genres_df = unique_directors_df.explode('genres')\n",
    "unique_genres_df = unique_genres_df.drop_duplicates(subset=['movie_id', 'genres'])\n",
    "unique_genres_df.head(3)"
   ]
  },
  {
   "cell_type": "code",
   "execution_count": null,
   "metadata": {},
   "outputs": [],
   "source": [
    "g2 = 'genres'\n",
    "\n",
    "top_genres_by_mean_profit, \\\n",
    "bottom_genres_by_mean_profit = top_bottom_analysis(unique_genres_df, g2, m, c, n)"
   ]
  },
  {
   "cell_type": "code",
   "execution_count": null,
   "metadata": {},
   "outputs": [
    {
     "data": {
      "image/png": "[encoded data removed]",
      "text/plain": [
       "<Figure size 720x288 with 1 Axes>"
      ]
     },
     "metadata": {},
     "output_type": "display_data"
    }
   ],
   "source": [
    "top_genres_by_mean_profit.iloc[::-1].plot.barh(figsize=(10, 4), color='#38AF18')\n",
    "plt.title(f'Top {n} {g2.title()} by Mean Profit')\n",
    "plt.xlabel('Profit ($)')\n",
    "plt.ylabel('Genre')\n",
    "plt.xticks(rotation=30)\n",
    "plt.show()"
   ]
  },
  {
   "cell_type": "code",
   "execution_count": null,
   "metadata": {},
   "outputs": [
    {
     "data": {
      "image/png": "[encoded data removed]",
      "text/plain": [
       "<Figure size 720x288 with 1 Axes>"
      ]
     },
     "metadata": {},
     "output_type": "display_data"
    }
   ],
   "source": [
    "bottom_genres_by_mean_profit.plot.barh(figsize=(10, 4), color='#921FA4')\n",
    "plt.title(f'Bottom {n} {g2.title()} by Mean Profit')\n",
    "plt.xlabel('Profit ($)')\n",
    "plt.ylabel('Genre')\n",
    "plt.xticks(rotation=30)\n",
    "plt.show()"
   ]
  },
  {
   "cell_type": "code",
   "execution_count": null,
   "metadata": {},
   "outputs": [],
   "source": [
    "top_genres_by_mean_votes, \\\n",
    "bottom_genres_by_mean_votes = top_bottom_analysis(unique_genres_df, g2, m, c2, n)"
   ]
  },
  {
   "cell_type": "code",
   "execution_count": null,
   "metadata": {},
   "outputs": [
    {
     "data": {
      "image/png": "[encoded data removed]",
      "text/plain": [
       "<Figure size 720x288 with 1 Axes>"
      ]
     },
     "metadata": {},
     "output_type": "display_data"
    }
   ],
   "source": [
    "top_genres_by_mean_votes.iloc[::-1].plot.barh(figsize=(10, 4), color='#38AF18')\n",
    "plt.title(f'Top {n} {g2.title()} by Mean Number of Votes')\n",
    "plt.xlabel('Number of Votes')\n",
    "plt.ylabel('Genre')\n",
    "plt.xticks(rotation=30)\n",
    "plt.show()"
   ]
  },
  {
   "cell_type": "code",
   "execution_count": null,
   "metadata": {},
   "outputs": [
    {
     "data": {
      "image/png": "[encoded data removed]",
      "text/plain": [
       "<Figure size 720x288 with 1 Axes>"
      ]
     },
     "metadata": {},
     "output_type": "display_data"
    }
   ],
   "source": [
    "bottom_genres_by_mean_votes.plot.barh(figsize=(10, 4), color='#921FA4')\n",
    "plt.title(f'Top {n} {g2.title()} by Mean Number of Votes')\n",
    "plt.xlabel('Number of Votes')\n",
    "plt.ylabel('Genre')\n",
    "plt.xticks(rotation=30)\n",
    "plt.show()"
   ]
  },
  {
   "cell_type": "markdown",
   "metadata": {},
   "source": [
    "## ROI Analysis"
   ]
  },
  {
   "cell_type": "code",
   "execution_count": null,
   "metadata": {},
   "outputs": [],
   "source": [
    "highest_roi_directors, _ = top_bottom_analysis(unique_directors_df, 'directors', 'mean', 'roi', len(unique_directors_df))"
   ]
  },
  {
   "cell_type": "code",
   "execution_count": null,
   "metadata": {},
   "outputs": [
    {
     "data": {
      "text/plain": [
       "directors\n",
       "Chris Renaud         7.487083\n",
       "David O. Russell     6.365257\n",
       "Steven Soderbergh    5.914333\n",
       "Name: roi, dtype: float64"
      ]
     },
     "metadata": {},
     "output_type": "display_data"
    },
    {
     "data": {
      "text/plain": [
       "directors\n",
       "Tyler Perry        1.337438\n",
       "Martin Scorsese    1.288123\n",
       "Zack Snyder        1.243864\n",
       "Name: roi, dtype: float64"
      ]
     },
     "metadata": {},
     "output_type": "display_data"
    }
   ],
   "source": [
    "Q1 = highest_roi_directors.quantile(0.25)\n",
    "Q3 = highest_roi_directors.quantile(0.75)\n",
    "IQR = Q3 - Q1\n",
    "filtered_highest_roi_directors = highest_roi_directors[(highest_roi_directors >= Q1 - 1.5*IQR) & (highest_roi_directors <= Q3 + 1.5*IQR)]\n",
    "director_counts = unique_directors_df['directors'].value_counts()\n",
    "directors_to_keep = director_counts[director_counts > 3].index\n",
    "filtered_highest_roi_directors = filtered_highest_roi_directors[filtered_highest_roi_directors.index.isin(directors_to_keep)]\n",
    "filtered_highest_roi_directors = filtered_highest_roi_directors[filtered_highest_roi_directors > 1.2]\n",
    "display(filtered_highest_roi_directors.head(3))\n",
    "display(filtered_highest_roi_directors.tail(3))"
   ]
  },
  {
   "cell_type": "code",
   "execution_count": null,
   "metadata": {},
   "outputs": [
    {
     "data": {
      "text/plain": [
       "genres\n",
       "Mystery     8.267983\n",
       "Horror      7.718993\n",
       "Thriller    5.311242\n",
       "Name: roi, dtype: float64"
      ]
     },
     "metadata": {},
     "output_type": "display_data"
    },
    {
     "data": {
      "text/plain": [
       "genres\n",
       "Sport        2.075350\n",
       "Adventure    2.070939\n",
       "Crime        1.467618\n",
       "Name: roi, dtype: float64"
      ]
     },
     "metadata": {},
     "output_type": "display_data"
    }
   ],
   "source": [
    "highest_roi_genres, _ = top_bottom_analysis(unique_genres_df, 'genres', 'mean', 'roi', len(unique_genres_df))\n",
    "highest_roi_genres = highest_roi_genres[highest_roi_genres > 1.2]\n",
    "display(highest_roi_genres.head(3))\n",
    "display(highest_roi_genres.tail(3))"
   ]
  },
  {
   "cell_type": "markdown",
   "metadata": {},
   "source": [
    "### Regression on scaled data:"
   ]
  },
  {
   "cell_type": "code",
   "execution_count": null,
   "metadata": {},
   "outputs": [
    {
     "data": {
      "text/html": [
       "<div>\n",
       "<style scoped>\n",
       "    .dataframe tbody tr th:only-of-type {\n",
       "        vertical-align: middle;\n",
       "    }\n",
       "\n",
       "    .dataframe tbody tr th {\n",
       "        vertical-align: top;\n",
       "    }\n",
       "\n",
       "    .dataframe thead th {\n",
       "        text-align: right;\n",
       "    }\n",
       "</style>\n",
       "<table border=\"1\" class=\"dataframe\">\n",
       "  <thead>\n",
       "    <tr style=\"text-align: right;\">\n",
       "      <th></th>\n",
       "      <th>production_budget</th>\n",
       "      <th>profit</th>\n",
       "    </tr>\n",
       "  </thead>\n",
       "  <tbody>\n",
       "    <tr>\n",
       "      <th>0</th>\n",
       "      <td>45000000.0</td>\n",
       "      <td>-4.492629e+07</td>\n",
       "    </tr>\n",
       "    <tr>\n",
       "      <th>50</th>\n",
       "      <td>25000000.0</td>\n",
       "      <td>-1.568670e+07</td>\n",
       "    </tr>\n",
       "    <tr>\n",
       "      <th>104</th>\n",
       "      <td>91000000.0</td>\n",
       "      <td>9.686118e+07</td>\n",
       "    </tr>\n",
       "    <tr>\n",
       "      <th>168</th>\n",
       "      <td>28000000.0</td>\n",
       "      <td>3.410859e+07</td>\n",
       "    </tr>\n",
       "    <tr>\n",
       "      <th>220</th>\n",
       "      <td>215000000.0</td>\n",
       "      <td>1.433855e+09</td>\n",
       "    </tr>\n",
       "    <tr>\n",
       "      <th>...</th>\n",
       "      <td>...</td>\n",
       "      <td>...</td>\n",
       "    </tr>\n",
       "    <tr>\n",
       "      <th>135870</th>\n",
       "      <td>27000000.0</td>\n",
       "      <td>-2.251452e+07</td>\n",
       "    </tr>\n",
       "    <tr>\n",
       "      <th>135946</th>\n",
       "      <td>75000000.0</td>\n",
       "      <td>-4.437331e+07</td>\n",
       "    </tr>\n",
       "    <tr>\n",
       "      <th>135949</th>\n",
       "      <td>500000.0</td>\n",
       "      <td>-1.912070e+05</td>\n",
       "    </tr>\n",
       "    <tr>\n",
       "      <th>135953</th>\n",
       "      <td>38000000.0</td>\n",
       "      <td>1.167840e+07</td>\n",
       "    </tr>\n",
       "    <tr>\n",
       "      <th>135955</th>\n",
       "      <td>6000000.0</td>\n",
       "      <td>1.210762e+07</td>\n",
       "    </tr>\n",
       "  </tbody>\n",
       "</table>\n",
       "<p>1962 rows × 2 columns</p>\n",
       "</div>"
      ],
      "text/plain": [
       "        production_budget        profit\n",
       "0              45000000.0 -4.492629e+07\n",
       "50             25000000.0 -1.568670e+07\n",
       "104            91000000.0  9.686118e+07\n",
       "168            28000000.0  3.410859e+07\n",
       "220           215000000.0  1.433855e+09\n",
       "...                   ...           ...\n",
       "135870         27000000.0 -2.251452e+07\n",
       "135946         75000000.0 -4.437331e+07\n",
       "135949           500000.0 -1.912070e+05\n",
       "135953         38000000.0  1.167840e+07\n",
       "135955          6000000.0  1.210762e+07\n",
       "\n",
       "[1962 rows x 2 columns]"
      ]
     },
     "execution_count": 115,
     "metadata": {},
     "output_type": "execute_result"
    }
   ],
   "source": [
    "budget_profit_regression_df = merged_df[['production_budget', 'profit']].drop_duplicates().copy()\n",
    "budget_profit_regression_df"
   ]
  },
  {
   "cell_type": "code",
   "execution_count": null,
   "metadata": {},
   "outputs": [],
   "source": [
    "from sklearn.preprocessing import StandardScaler\n",
    "\n",
    "scaler = StandardScaler()\n",
    "scaled_data = scaler.fit_transform(budget_profit_regression_df['production_budget'].values.reshape(-1, 1))\n",
    "X_S = scaled_data[:, 0]\n",
    "y = budget_profit_regression_df['profit'].values"
   ]
  },
  {
   "cell_type": "code",
   "execution_count": null,
   "metadata": {},
   "outputs": [
    {
     "name": "stdout",
     "output_type": "stream",
     "text": [
      "profit change per one standard deviation increase in budget: $121,350,078.04\n"
     ]
    }
   ],
   "source": [
    "import statsmodels.api as sm\n",
    "\n",
    "lin_reg = sm.OLS(y, sm.add_constant(X_S)).fit()\n",
    "\n",
    "print(f'profit change per one standard deviation increase in budget: ${lin_reg.params[1]:,.2f}')"
   ]
  },
  {
   "cell_type": "code",
   "execution_count": null,
   "metadata": {},
   "outputs": [
    {
     "name": "stdout",
     "output_type": "stream",
     "text": [
      "                            OLS Regression Results                            \n",
      "==============================================================================\n",
      "Dep. Variable:                      y   R-squared:                       0.446\n",
      "Model:                            OLS   Adj. R-squared:                  0.445\n",
      "Method:                 Least Squares   F-statistic:                     1575.\n",
      "Date:                Wed, 02 Aug 2023   Prob (F-statistic):          2.56e-253\n",
      "Time:                        15:31:23   Log-Likelihood:                -39519.\n",
      "No. Observations:                1962   AIC:                         7.904e+04\n",
      "Df Residuals:                    1960   BIC:                         7.905e+04\n",
      "Df Model:                           1                                         \n",
      "Covariance Type:            nonrobust                                         \n",
      "==============================================================================\n",
      "                 coef    std err          t      P>|t|      [0.025      0.975]\n",
      "------------------------------------------------------------------------------\n",
      "const       8.111e+07   3.06e+06     26.529      0.000    7.51e+07    8.71e+07\n",
      "x1          1.214e+08   3.06e+06     39.688      0.000    1.15e+08    1.27e+08\n",
      "==============================================================================\n",
      "Omnibus:                     1122.065   Durbin-Watson:                   1.930\n",
      "Prob(Omnibus):                  0.000   Jarque-Bera (JB):            28646.073\n",
      "Skew:                           2.188   Prob(JB):                         0.00\n",
      "Kurtosis:                      21.201   Cond. No.                         1.00\n",
      "==============================================================================\n",
      "\n",
      "Notes:\n",
      "[1] Standard Errors assume that the covariance matrix of the errors is correctly specified.\n"
     ]
    }
   ],
   "source": [
    "print(lin_reg.summary())"
   ]
  },
  {
   "cell_type": "code",
   "execution_count": null,
   "metadata": {},
   "outputs": [],
   "source": [
    "top_directors_by_mean_profit.to_csv('top_directors_by_mean_profit.csv')\n",
    "bottom_directors_by_mean_profit.to_csv('bottom_directors_by_mean_profit.csv')\n",
    "\n",
    "top_directors_by_mean_votes.to_csv('top_directors_by_mean_votes.csv')\n",
    "bottom_directors_by_mean_votes.to_csv('bottom_directors_by_mean_votes.csv')\n",
    "\n",
    "top_genres_by_mean_profit.to_csv('top_genres_by_mean_profit.csv')\n",
    "bottom_genres_by_mean_profit.to_csv('bottom_genres_by_mean_profit.csv')\n",
    "\n",
    "top_genres_by_mean_votes.to_csv('top_genres_by_mean_votes.csv')\n",
    "bottom_genres_by_mean_votes.to_csv('bottom_genres_by_mean_votes.csv')"
   ]
  },
  {
   "cell_type": "code",
   "execution_count": null,
   "metadata": {},
   "outputs": [],
   "source": [
    "unique_directors_df.to_csv('unique_directors.csv')\n",
    "unique_genres_df.to_csv('unique_genres_df.csv')"
   ]
  },
  {
   "cell_type": "markdown",
   "metadata": {},
   "source": [
    "###"
   ]
  }
 ],
 "metadata": {
  "kernelspec": {
   "display_name": "learn-env",
   "language": "python",
   "name": "python3"
  },
  "language_info": {
   "codemirror_mode": {
    "name": "ipython",
    "version": 3
   },
   "file_extension": ".py",
   "mimetype": "text/x-python",
   "name": "python",
   "nbconvert_exporter": "python",
   "pygments_lexer": "ipython3",
   "version": "3.8.5"
  },
  "orig_nbformat": 4
 },
 "nbformat": 4,
 "nbformat_minor": 2
}
